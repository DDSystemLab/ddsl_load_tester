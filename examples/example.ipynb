{
 "cells": [
  {
   "cell_type": "code",
   "execution_count": 1,
   "metadata": {
    "ExecuteTime": {
     "end_time": "2019-05-03T14:22:55.119435Z",
     "start_time": "2019-05-03T14:22:54.446748Z"
    }
   },
   "outputs": [],
   "source": [
    "%load_ext autoreload\n",
    "\n",
    "# Auto reloading causes the kernel to reload the libraries we have\n",
    "%autoreload 2\n",
    "\n",
    "import time\n",
    "import pandas as pd\n",
    "\n",
    "import sys\n",
    "sys.path.append(\"../ddsl_load_tester\")\n",
    "\n",
    "import ddsl_load_tester as load_tester"
   ]
  },
  {
   "cell_type": "markdown",
   "metadata": {},
   "source": [
    "# Getting Current Status"
   ]
  },
  {
   "cell_type": "code",
   "execution_count": 2,
   "metadata": {
    "ExecuteTime": {
     "end_time": "2019-05-03T14:22:55.173013Z",
     "start_time": "2019-05-03T14:22:55.122777Z"
    }
   },
   "outputs": [
    {
     "data": {
      "text/plain": [
       "{'current_response_time_percentile_50': 54.172515869140625,\n",
       " 'current_response_time_percentile_95': 280,\n",
       " 'errors': [],\n",
       " 'fail_ratio': 0.0,\n",
       " 'state': 'running',\n",
       " 'stats': [{'avg_content_length': 4.0,\n",
       "   'avg_response_time': 96.13980039506511,\n",
       "   'current_rps': 14.3,\n",
       "   'max_response_time': 431.1709403991699,\n",
       "   'median_response_time': 67.06023216247559,\n",
       "   'method': 'GET',\n",
       "   'min_response_time': 23.005247116088867,\n",
       "   'name': '/function/pyfibo/',\n",
       "   'num_failures': 0,\n",
       "   'num_requests': 233},\n",
       "  {'avg_content_length': 4.0,\n",
       "   'avg_response_time': 96.13980039506511,\n",
       "   'current_rps': 14.3,\n",
       "   'max_response_time': 431.1709403991699,\n",
       "   'median_response_time': 67.06023216247559,\n",
       "   'method': None,\n",
       "   'min_response_time': 23.005247116088867,\n",
       "   'name': 'Total',\n",
       "   'num_failures': 0,\n",
       "   'num_requests': 233}],\n",
       " 'total_rps': 14.3,\n",
       " 'user_count': 100}"
      ]
     },
     "execution_count": 2,
     "metadata": {},
     "output_type": "execute_result"
    }
   ],
   "source": [
    "load_tester.get_current_stats()"
   ]
  },
  {
   "cell_type": "markdown",
   "metadata": {},
   "source": [
    "# Running a Sequence"
   ]
  },
  {
   "cell_type": "code",
   "execution_count": 3,
   "metadata": {
    "ExecuteTime": {
     "end_time": "2019-05-03T14:24:25.395515Z",
     "start_time": "2019-05-03T14:22:55.176465Z"
    }
   },
   "outputs": [
    {
     "data": {
      "application/vnd.jupyter.widget-view+json": {
       "model_id": "8703b3c787644e3abdc44fc9bb0223ac",
       "version_major": 2,
       "version_minor": 0
      },
      "text/plain": [
       "HBox(children=(IntProgress(value=0, max=9), HTML(value='')))"
      ]
     },
     "metadata": {},
     "output_type": "display_data"
    },
    {
     "name": "stdout",
     "output_type": "stream",
     "text": [
      "\n"
     ]
    },
    {
     "data": {
      "text/html": [
       "<div>\n",
       "<style scoped>\n",
       "    .dataframe tbody tr th:only-of-type {\n",
       "        vertical-align: middle;\n",
       "    }\n",
       "\n",
       "    .dataframe tbody tr th {\n",
       "        vertical-align: top;\n",
       "    }\n",
       "\n",
       "    .dataframe thead th {\n",
       "        text-align: right;\n",
       "    }\n",
       "</style>\n",
       "<table border=\"1\" class=\"dataframe\">\n",
       "  <thead>\n",
       "    <tr style=\"text-align: right;\">\n",
       "      <th></th>\n",
       "      <th>time</th>\n",
       "      <th>current_response_time_percentile_50</th>\n",
       "      <th>current_response_time_percentile_95</th>\n",
       "      <th>fail_ratio</th>\n",
       "      <th>total_rps</th>\n",
       "      <th>user_count</th>\n",
       "      <th>avg_response_time</th>\n",
       "      <th>current_rps</th>\n",
       "      <th>max_response_time</th>\n",
       "      <th>median_response_time</th>\n",
       "      <th>min_response_time</th>\n",
       "      <th>num_failures</th>\n",
       "      <th>num_requests</th>\n",
       "      <th>elapsed</th>\n",
       "      <th>elapsed_min</th>\n",
       "    </tr>\n",
       "  </thead>\n",
       "  <tbody>\n",
       "    <tr>\n",
       "      <th>0</th>\n",
       "      <td>1.556893e+09</td>\n",
       "      <td>54.172516</td>\n",
       "      <td>280.000000</td>\n",
       "      <td>0.0</td>\n",
       "      <td>14.3</td>\n",
       "      <td>100</td>\n",
       "      <td>96.139800</td>\n",
       "      <td>14.3</td>\n",
       "      <td>431.17094</td>\n",
       "      <td>67.060232</td>\n",
       "      <td>23.005247</td>\n",
       "      <td>0</td>\n",
       "      <td>233</td>\n",
       "      <td>0.000000</td>\n",
       "      <td>0.000000</td>\n",
       "    </tr>\n",
       "    <tr>\n",
       "      <th>1</th>\n",
       "      <td>1.556893e+09</td>\n",
       "      <td>26.038170</td>\n",
       "      <td>91.372728</td>\n",
       "      <td>0.0</td>\n",
       "      <td>15.1</td>\n",
       "      <td>50</td>\n",
       "      <td>91.804550</td>\n",
       "      <td>15.1</td>\n",
       "      <td>431.17094</td>\n",
       "      <td>65.026283</td>\n",
       "      <td>23.005247</td>\n",
       "      <td>0</td>\n",
       "      <td>253</td>\n",
       "      <td>1.974996</td>\n",
       "      <td>0.032917</td>\n",
       "    </tr>\n",
       "    <tr>\n",
       "      <th>2</th>\n",
       "      <td>1.556893e+09</td>\n",
       "      <td>26.014090</td>\n",
       "      <td>74.340343</td>\n",
       "      <td>0.0</td>\n",
       "      <td>15.0</td>\n",
       "      <td>50</td>\n",
       "      <td>89.664631</td>\n",
       "      <td>15.0</td>\n",
       "      <td>431.17094</td>\n",
       "      <td>64.054728</td>\n",
       "      <td>23.005247</td>\n",
       "      <td>0</td>\n",
       "      <td>263</td>\n",
       "      <td>3.977165</td>\n",
       "      <td>0.066286</td>\n",
       "    </tr>\n",
       "    <tr>\n",
       "      <th>3</th>\n",
       "      <td>1.556893e+09</td>\n",
       "      <td>26.006937</td>\n",
       "      <td>82.383871</td>\n",
       "      <td>0.0</td>\n",
       "      <td>11.1</td>\n",
       "      <td>50</td>\n",
       "      <td>86.462932</td>\n",
       "      <td>11.1</td>\n",
       "      <td>431.17094</td>\n",
       "      <td>61.353207</td>\n",
       "      <td>23.005247</td>\n",
       "      <td>0</td>\n",
       "      <td>281</td>\n",
       "      <td>5.984592</td>\n",
       "      <td>0.099743</td>\n",
       "    </tr>\n",
       "    <tr>\n",
       "      <th>4</th>\n",
       "      <td>1.556893e+09</td>\n",
       "      <td>26.006937</td>\n",
       "      <td>82.383871</td>\n",
       "      <td>0.0</td>\n",
       "      <td>11.1</td>\n",
       "      <td>50</td>\n",
       "      <td>86.462932</td>\n",
       "      <td>11.1</td>\n",
       "      <td>431.17094</td>\n",
       "      <td>61.353207</td>\n",
       "      <td>23.005247</td>\n",
       "      <td>0</td>\n",
       "      <td>281</td>\n",
       "      <td>7.979686</td>\n",
       "      <td>0.132995</td>\n",
       "    </tr>\n",
       "  </tbody>\n",
       "</table>\n",
       "</div>"
      ],
      "text/plain": [
       "           time  current_response_time_percentile_50  \\\n",
       "0  1.556893e+09                            54.172516   \n",
       "1  1.556893e+09                            26.038170   \n",
       "2  1.556893e+09                            26.014090   \n",
       "3  1.556893e+09                            26.006937   \n",
       "4  1.556893e+09                            26.006937   \n",
       "\n",
       "   current_response_time_percentile_95  fail_ratio  total_rps  user_count  \\\n",
       "0                           280.000000         0.0       14.3         100   \n",
       "1                            91.372728         0.0       15.1          50   \n",
       "2                            74.340343         0.0       15.0          50   \n",
       "3                            82.383871         0.0       11.1          50   \n",
       "4                            82.383871         0.0       11.1          50   \n",
       "\n",
       "   avg_response_time  current_rps  max_response_time  median_response_time  \\\n",
       "0          96.139800         14.3          431.17094             67.060232   \n",
       "1          91.804550         15.1          431.17094             65.026283   \n",
       "2          89.664631         15.0          431.17094             64.054728   \n",
       "3          86.462932         11.1          431.17094             61.353207   \n",
       "4          86.462932         11.1          431.17094             61.353207   \n",
       "\n",
       "   min_response_time  num_failures  num_requests   elapsed  elapsed_min  \n",
       "0          23.005247             0           233  0.000000     0.000000  \n",
       "1          23.005247             0           253  1.974996     0.032917  \n",
       "2          23.005247             0           263  3.977165     0.066286  \n",
       "3          23.005247             0           281  5.984592     0.099743  \n",
       "4          23.005247             0           281  7.979686     0.132995  "
      ]
     },
     "execution_count": 3,
     "metadata": {},
     "output_type": "execute_result"
    }
   ],
   "source": [
    "from tqdm.auto import tqdm\n",
    "tqdm.pandas()\n",
    "\n",
    "loop_timer = load_tester.TimerClass()\n",
    "total_timer = load_tester.TimerClass()\n",
    "\n",
    "user_sequence = [50,100,500,1000,1000,1000,500,100,50]\n",
    "lt = load_tester.DdslLoadTester(hatch_rate=1000, temp_stat_max_len=5, base='http://localhost:8089/')\n",
    "lt.change_count(user_sequence[0])\n",
    "lt.start_capturing()\n",
    "\n",
    "loop_time_in_secs = load_tester.get_loop_time_in_secs('10s')\n",
    "\n",
    "loop_timer.tic()\n",
    "total_timer.tic()\n",
    "\n",
    "results = None\n",
    "for i in tqdm(range(len(user_sequence))):\n",
    "    user_count = user_sequence[i]\n",
    "    lt.change_count(user_count)\n",
    "    \n",
    "    time.sleep(loop_time_in_secs - loop_timer.toc())\n",
    "    \n",
    "    loop_timer.tic()\n",
    "    \n",
    "    result = lt.get_all_stats()\n",
    "    df_result = pd.DataFrame(data=result)\n",
    "    \n",
    "    if results is None:\n",
    "        results = df_result\n",
    "    else:\n",
    "        results = results.append(df_result)\n",
    "    \n",
    "lt.stop_test()\n",
    "\n",
    "results, filename = lt.prepare_results_from_df(results)\n",
    "\n",
    "results.head()"
   ]
  },
  {
   "cell_type": "markdown",
   "metadata": {},
   "source": [
    "# Showing Stats For Each Loop"
   ]
  },
  {
   "cell_type": "code",
   "execution_count": 4,
   "metadata": {
    "ExecuteTime": {
     "end_time": "2019-05-03T14:24:25.445233Z",
     "start_time": "2019-05-03T14:24:25.401241Z"
    }
   },
   "outputs": [
    {
     "data": {
      "text/plain": [
       "{'time': [1556893455.5122523,\n",
       "  1556893457.5276916,\n",
       "  1556893459.516725,\n",
       "  1556893461.521768,\n",
       "  1556893463.5200727],\n",
       " 'current_response_time_percentile_50': [28.674602508544922,\n",
       "  28.119564056396484,\n",
       "  28.119564056396484,\n",
       "  27.900218963623047,\n",
       "  27.900218963623047],\n",
       " 'current_response_time_percentile_95': [94.2540168762207,\n",
       "  95.72100639343262,\n",
       "  95.72100639343262,\n",
       "  94.02608871459961,\n",
       "  94.02608871459961],\n",
       " 'fail_ratio': [0.0, 0.0, 0.0, 0.0, 0.0],\n",
       " 'total_rps': [39.8, 16.8, 16.8, 11.8, 11.8],\n",
       " 'user_count': [100, 50, 50, 50, 50],\n",
       " 'avg_response_time': [261.60687242780585,\n",
       "  260.1586636211012,\n",
       "  260.1586636211012,\n",
       "  259.08134592694427,\n",
       "  259.08134592694427],\n",
       " 'current_rps': [39.8, 16.8, 16.8, 11.8, 11.8],\n",
       " 'max_response_time': [2004.8556327819824,\n",
       "  2004.8556327819824,\n",
       "  2004.8556327819824,\n",
       "  2004.8556327819824,\n",
       "  2004.8556327819824],\n",
       " 'median_response_time': [120, 120, 120, 110, 110],\n",
       " 'min_response_time': [21.972179412841797,\n",
       "  21.972179412841797,\n",
       "  21.972179412841797,\n",
       "  21.972179412841797,\n",
       "  21.972179412841797],\n",
       " 'num_failures': [0, 0, 0, 0, 0],\n",
       " 'num_requests': [6373, 6415, 6415, 6447, 6447]}"
      ]
     },
     "execution_count": 4,
     "metadata": {},
     "output_type": "execute_result"
    }
   ],
   "source": [
    "result"
   ]
  },
  {
   "cell_type": "markdown",
   "metadata": {},
   "source": [
    "# Plotting The Sequence Results"
   ]
  },
  {
   "cell_type": "code",
   "execution_count": 5,
   "metadata": {
    "ExecuteTime": {
     "end_time": "2019-05-03T14:24:30.686435Z",
     "start_time": "2019-05-03T14:24:25.448511Z"
    }
   },
   "outputs": [
    {
     "data": {
      "image/png": "[encoded data removed]",
      "text/plain": [
       "<Figure size 576x1296 with 4 Axes>"
      ]
     },
     "metadata": {
      "needs_background": "light"
     },
     "output_type": "display_data"
    }
   ],
   "source": [
    "res = results\n",
    "\n",
    "import matplotlib.pyplot as plt\n",
    "\n",
    "%matplotlib inline\n",
    "\n",
    "plt.figure(figsize=(8,18))\n",
    "plt.subplot(411)\n",
    "plt.plot(res['elapsed_min'], res['min_response_time'], label='min_response_time')\n",
    "plt.plot(res['elapsed_min'], res['current_response_time_percentile_50'], label='median_response_time')\n",
    "plt.plot(res['elapsed_min'], res['avg_response_time'], label='avg_response_time')\n",
    "plt.plot(res['elapsed_min'], res['current_response_time_percentile_95'], label='95th percentile')\n",
    "plt.plot(res['elapsed_min'], res['max_response_time'], label='max_response_time')\n",
    "\n",
    "plt.xlabel('Time (minutes)')\n",
    "plt.ylabel('Average Response Time (ms)')\n",
    "plt.legend()\n",
    "\n",
    "plt.subplot(412)\n",
    "plt.plot(res['elapsed_min'], res['user_count'])\n",
    "plt.xlabel('Time (minutes)')\n",
    "plt.ylabel('Num of Users')\n",
    "\n",
    "plt.subplot(413)\n",
    "plt.plot(res['elapsed_min'], res['total_rps'])\n",
    "plt.xlabel('Time (minutes)')\n",
    "plt.ylabel('Throughput (req/s)')\n",
    "\n",
    "plt.subplot(414)\n",
    "plt.plot(res['elapsed_min'], res['fail_ratio'])\n",
    "plt.xlabel('Time (minutes)')\n",
    "plt.ylabel('Fail Ratio')\n",
    "\n",
    "filename = filename.replace('.csv', '')\n",
    "plt.savefig(filename + '.png', dpi=300)\n",
    "plt.savefig(filename + '.pdf')\n",
    "plt.show()"
   ]
  },
  {
   "cell_type": "markdown",
   "metadata": {},
   "source": [
    "# Testing with Custom Sensing Function\n",
    "\n",
    "In case you need another sensing functionality (for example you also want to measure the replica count or network latency) along with other information, you can override the `custom_sensing()` function in the object."
   ]
  },
  {
   "cell_type": "code",
   "execution_count": 6,
   "metadata": {
    "ExecuteTime": {
     "end_time": "2019-05-03T14:24:30.722765Z",
     "start_time": "2019-05-03T14:24:30.691038Z"
    }
   },
   "outputs": [
    {
     "data": {
      "text/plain": [
       "{'random': 0.570523256206516}"
      ]
     },
     "execution_count": 6,
     "metadata": {},
     "output_type": "execute_result"
    }
   ],
   "source": [
    "def custom_sensing():\n",
    "    import random\n",
    "    return {'random':random.random()}\n",
    "\n",
    "lt.custom_sensing = custom_sensing\n",
    "# Testing the function\n",
    "lt.custom_sensing()"
   ]
  },
  {
   "cell_type": "code",
   "execution_count": 7,
   "metadata": {
    "ExecuteTime": {
     "end_time": "2019-05-03T14:26:01.015687Z",
     "start_time": "2019-05-03T14:24:30.726278Z"
    }
   },
   "outputs": [
    {
     "data": {
      "application/vnd.jupyter.widget-view+json": {
       "model_id": "d9890ec6945147e99dc4d58b70bb642f",
       "version_major": 2,
       "version_minor": 0
      },
      "text/plain": [
       "HBox(children=(IntProgress(value=0, max=9), HTML(value='')))"
      ]
     },
     "metadata": {},
     "output_type": "display_data"
    },
    {
     "name": "stdout",
     "output_type": "stream",
     "text": [
      "\n"
     ]
    },
    {
     "data": {
      "text/html": [
       "<div>\n",
       "<style scoped>\n",
       "    .dataframe tbody tr th:only-of-type {\n",
       "        vertical-align: middle;\n",
       "    }\n",
       "\n",
       "    .dataframe tbody tr th {\n",
       "        vertical-align: top;\n",
       "    }\n",
       "\n",
       "    .dataframe thead th {\n",
       "        text-align: right;\n",
       "    }\n",
       "</style>\n",
       "<table border=\"1\" class=\"dataframe\">\n",
       "  <thead>\n",
       "    <tr style=\"text-align: right;\">\n",
       "      <th></th>\n",
       "      <th>time</th>\n",
       "      <th>current_response_time_percentile_50</th>\n",
       "      <th>current_response_time_percentile_95</th>\n",
       "      <th>fail_ratio</th>\n",
       "      <th>total_rps</th>\n",
       "      <th>user_count</th>\n",
       "      <th>avg_response_time</th>\n",
       "      <th>current_rps</th>\n",
       "      <th>max_response_time</th>\n",
       "      <th>median_response_time</th>\n",
       "      <th>min_response_time</th>\n",
       "      <th>num_failures</th>\n",
       "      <th>num_requests</th>\n",
       "      <th>custom_random</th>\n",
       "      <th>elapsed</th>\n",
       "      <th>elapsed_min</th>\n",
       "    </tr>\n",
       "  </thead>\n",
       "  <tbody>\n",
       "    <tr>\n",
       "      <th>0</th>\n",
       "      <td>1.556893e+09</td>\n",
       "      <td>120.000000</td>\n",
       "      <td>230.0</td>\n",
       "      <td>0.0</td>\n",
       "      <td>0.000000</td>\n",
       "      <td>50</td>\n",
       "      <td>122.728400</td>\n",
       "      <td>0.000000</td>\n",
       "      <td>246.101856</td>\n",
       "      <td>120.000000</td>\n",
       "      <td>50.598621</td>\n",
       "      <td>0</td>\n",
       "      <td>50</td>\n",
       "      <td>0.101528</td>\n",
       "      <td>0.000000</td>\n",
       "      <td>0.000000</td>\n",
       "    </tr>\n",
       "    <tr>\n",
       "      <th>1</th>\n",
       "      <td>1.556893e+09</td>\n",
       "      <td>120.000000</td>\n",
       "      <td>230.0</td>\n",
       "      <td>0.0</td>\n",
       "      <td>0.000000</td>\n",
       "      <td>50</td>\n",
       "      <td>122.728400</td>\n",
       "      <td>0.000000</td>\n",
       "      <td>246.101856</td>\n",
       "      <td>120.000000</td>\n",
       "      <td>50.598621</td>\n",
       "      <td>0</td>\n",
       "      <td>50</td>\n",
       "      <td>0.420778</td>\n",
       "      <td>2.000142</td>\n",
       "      <td>0.033336</td>\n",
       "    </tr>\n",
       "    <tr>\n",
       "      <th>2</th>\n",
       "      <td>1.556893e+09</td>\n",
       "      <td>120.000000</td>\n",
       "      <td>230.0</td>\n",
       "      <td>0.0</td>\n",
       "      <td>0.000000</td>\n",
       "      <td>50</td>\n",
       "      <td>122.728400</td>\n",
       "      <td>0.000000</td>\n",
       "      <td>246.101856</td>\n",
       "      <td>120.000000</td>\n",
       "      <td>50.598621</td>\n",
       "      <td>0</td>\n",
       "      <td>50</td>\n",
       "      <td>0.514926</td>\n",
       "      <td>3.997733</td>\n",
       "      <td>0.066629</td>\n",
       "    </tr>\n",
       "    <tr>\n",
       "      <th>3</th>\n",
       "      <td>1.556893e+09</td>\n",
       "      <td>82.220316</td>\n",
       "      <td>200.0</td>\n",
       "      <td>0.0</td>\n",
       "      <td>8.333333</td>\n",
       "      <td>50</td>\n",
       "      <td>89.136543</td>\n",
       "      <td>8.333333</td>\n",
       "      <td>246.101856</td>\n",
       "      <td>72.951317</td>\n",
       "      <td>23.376465</td>\n",
       "      <td>0</td>\n",
       "      <td>83</td>\n",
       "      <td>0.697783</td>\n",
       "      <td>6.005076</td>\n",
       "      <td>0.100085</td>\n",
       "    </tr>\n",
       "    <tr>\n",
       "      <th>0</th>\n",
       "      <td>1.556893e+09</td>\n",
       "      <td>65.932751</td>\n",
       "      <td>200.0</td>\n",
       "      <td>0.0</td>\n",
       "      <td>9.250000</td>\n",
       "      <td>50</td>\n",
       "      <td>79.517384</td>\n",
       "      <td>9.250000</td>\n",
       "      <td>246.101856</td>\n",
       "      <td>65.932751</td>\n",
       "      <td>23.376465</td>\n",
       "      <td>0</td>\n",
       "      <td>100</td>\n",
       "      <td>0.628278</td>\n",
       "      <td>8.016455</td>\n",
       "      <td>0.133608</td>\n",
       "    </tr>\n",
       "  </tbody>\n",
       "</table>\n",
       "</div>"
      ],
      "text/plain": [
       "           time  current_response_time_percentile_50  \\\n",
       "0  1.556893e+09                           120.000000   \n",
       "1  1.556893e+09                           120.000000   \n",
       "2  1.556893e+09                           120.000000   \n",
       "3  1.556893e+09                            82.220316   \n",
       "0  1.556893e+09                            65.932751   \n",
       "\n",
       "   current_response_time_percentile_95  fail_ratio  total_rps  user_count  \\\n",
       "0                                230.0         0.0   0.000000          50   \n",
       "1                                230.0         0.0   0.000000          50   \n",
       "2                                230.0         0.0   0.000000          50   \n",
       "3                                200.0         0.0   8.333333          50   \n",
       "0                                200.0         0.0   9.250000          50   \n",
       "\n",
       "   avg_response_time  current_rps  max_response_time  median_response_time  \\\n",
       "0         122.728400     0.000000         246.101856            120.000000   \n",
       "1         122.728400     0.000000         246.101856            120.000000   \n",
       "2         122.728400     0.000000         246.101856            120.000000   \n",
       "3          89.136543     8.333333         246.101856             72.951317   \n",
       "0          79.517384     9.250000         246.101856             65.932751   \n",
       "\n",
       "   min_response_time  num_failures  num_requests  custom_random   elapsed  \\\n",
       "0          50.598621             0            50       0.101528  0.000000   \n",
       "1          50.598621             0            50       0.420778  2.000142   \n",
       "2          50.598621             0            50       0.514926  3.997733   \n",
       "3          23.376465             0            83       0.697783  6.005076   \n",
       "0          23.376465             0           100       0.628278  8.016455   \n",
       "\n",
       "   elapsed_min  \n",
       "0     0.000000  \n",
       "1     0.033336  \n",
       "2     0.066629  \n",
       "3     0.100085  \n",
       "0     0.133608  "
      ]
     },
     "execution_count": 7,
     "metadata": {},
     "output_type": "execute_result"
    }
   ],
   "source": [
    "from tqdm.auto import tqdm\n",
    "tqdm.pandas()\n",
    "\n",
    "loop_timer = load_tester.TimerClass()\n",
    "total_timer = load_tester.TimerClass()\n",
    "\n",
    "user_sequence = [50,100,500,1000,1000,1000,500,100,50]\n",
    "lt = load_tester.DdslLoadTester(hatch_rate=1000, temp_stat_max_len=5, base='http://localhost:8089/')\n",
    "lt.custom_sensing = custom_sensing\n",
    "lt.change_count(user_sequence[0])\n",
    "lt.start_capturing()\n",
    "\n",
    "loop_time_in_secs = load_tester.get_loop_time_in_secs('10s')\n",
    "\n",
    "loop_timer.tic()\n",
    "total_timer.tic()\n",
    "\n",
    "results = None\n",
    "for i in tqdm(range(len(user_sequence))):\n",
    "    user_count = user_sequence[i]\n",
    "    lt.change_count(user_count)\n",
    "    \n",
    "    time.sleep(loop_time_in_secs - loop_timer.toc())\n",
    "    \n",
    "    loop_timer.tic()\n",
    "    \n",
    "    result = lt.get_all_stats()\n",
    "    df_result = pd.DataFrame(data=result)\n",
    "        \n",
    "    if results is None:\n",
    "        results = df_result\n",
    "    else:\n",
    "        results = results.append(df_result)\n",
    "    \n",
    "lt.stop_test()\n",
    "\n",
    "results, filename = lt.prepare_results_from_df(results)\n",
    "\n",
    "results.head()"
   ]
  },
  {
   "cell_type": "code",
   "execution_count": 8,
   "metadata": {
    "ExecuteTime": {
     "end_time": "2019-05-03T14:26:01.429565Z",
     "start_time": "2019-05-03T14:26:01.021651Z"
    }
   },
   "outputs": [
    {
     "data": {
      "text/plain": [
       "Text(0, 0.5, 'Custom Value')"
      ]
     },
     "execution_count": 8,
     "metadata": {},
     "output_type": "execute_result"
    },
    {
     "data": {
      "image/png": "[encoded data removed]",
      "text/plain": [
       "<Figure size 432x288 with 1 Axes>"
      ]
     },
     "metadata": {
      "needs_background": "light"
     },
     "output_type": "display_data"
    }
   ],
   "source": [
    "res = results\n",
    "\n",
    "plt.plot(res['elapsed_min'], res['custom_random'])\n",
    "plt.xlabel('Time (minutes)')\n",
    "plt.ylabel('Custom Value')"
   ]
  }
 ],
 "metadata": {
  "kernelspec": {
   "display_name": "Python 3",
   "language": "python",
   "name": "python3"
  },
  "language_info": {
   "codemirror_mode": {
    "name": "ipython",
    "version": 3
   },
   "file_extension": ".py",
   "mimetype": "text/x-python",
   "name": "python",
   "nbconvert_exporter": "python",
   "pygments_lexer": "ipython3",
   "version": "3.6.8"
  },
  "toc": {
   "base_numbering": 1,
   "nav_menu": {},
   "number_sections": true,
   "sideBar": true,
   "skip_h1_title": false,
   "title_cell": "Table of Contents",
   "title_sidebar": "Contents",
   "toc_cell": false,
   "toc_position": {},
   "toc_section_display": true,
   "toc_window_display": false
  },
  "varInspector": {
   "cols": {
    "lenName": 16,
    "lenType": 16,
    "lenVar": 40
   },
   "kernels_config": {
    "python": {
     "delete_cmd_postfix": "",
     "delete_cmd_prefix": "del ",
     "library": "var_list.py",
     "varRefreshCmd": "print(var_dic_list())"
    },
    "r": {
     "delete_cmd_postfix": ") ",
     "delete_cmd_prefix": "rm(",
     "library": "var_list.r",
     "varRefreshCmd": "cat(var_dic_list()) "
    }
   },
   "types_to_exclude": [
    "module",
    "function",
    "builtin_function_or_method",
    "instance",
    "_Feature"
   ],
   "window_display": false
  }
 },
 "nbformat": 4,
 "nbformat_minor": 2
}
