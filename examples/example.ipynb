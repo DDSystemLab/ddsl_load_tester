{
 "cells": [
  {
   "cell_type": "code",
   "execution_count": 1,
   "metadata": {},
   "outputs": [],
   "source": [
    "%load_ext autoreload\n",
    "\n",
    "# Auto reloading causes the kernel to reload the libraries we have\n",
    "%autoreload 2\n",
    "\n",
    "import time\n",
    "import pandas as pd\n",
    "\n",
    "import sys\n",
    "sys.path.append(\"../ddsl_load_tester\")\n",
    "\n",
    "import ddsl_load_tester as load_tester"
   ]
  },
  {
   "cell_type": "markdown",
   "metadata": {},
   "source": [
    "# Getting Current Status"
   ]
  },
  {
   "cell_type": "code",
   "execution_count": 2,
   "metadata": {},
   "outputs": [
    {
     "data": {
      "text/plain": [
       "{'current_response_time_percentile_50': None,\n",
       " 'current_response_time_percentile_95': None,\n",
       " 'errors': [],\n",
       " 'fail_ratio': 0.0,\n",
       " 'state': 'stopped',\n",
       " 'stats': [{'avg_content_length': 4.0,\n",
       "   'avg_response_time': 390.2837256558634,\n",
       "   'current_rps': 8.9,\n",
       "   'max_response_time': 5086.153268814087,\n",
       "   'median_response_time': 220,\n",
       "   'method': 'GET',\n",
       "   'min_response_time': 22.908926010131836,\n",
       "   'name': '/function/pyfibo/',\n",
       "   'num_failures': 0,\n",
       "   'num_requests': 6230},\n",
       "  {'avg_content_length': 4.0,\n",
       "   'avg_response_time': 390.2837256558634,\n",
       "   'current_rps': 8.9,\n",
       "   'max_response_time': 5086.153268814087,\n",
       "   'median_response_time': 220,\n",
       "   'method': None,\n",
       "   'min_response_time': 22.908926010131836,\n",
       "   'name': 'Total',\n",
       "   'num_failures': 0,\n",
       "   'num_requests': 6230}],\n",
       " 'total_rps': 8.9,\n",
       " 'user_count': 0}"
      ]
     },
     "execution_count": 2,
     "metadata": {},
     "output_type": "execute_result"
    }
   ],
   "source": [
    "load_tester.get_current_stats()"
   ]
  },
  {
   "cell_type": "markdown",
   "metadata": {},
   "source": [
    "# Running a Sequence"
   ]
  },
  {
   "cell_type": "code",
   "execution_count": 3,
   "metadata": {},
   "outputs": [
    {
     "data": {
      "application/vnd.jupyter.widget-view+json": {
       "model_id": "ccc23701fbb840eea411e792a7f468f2",
       "version_major": 2,
       "version_minor": 0
      },
      "text/plain": [
       "HBox(children=(IntProgress(value=0, max=9), HTML(value='')))"
      ]
     },
     "metadata": {},
     "output_type": "display_data"
    },
    {
     "name": "stdout",
     "output_type": "stream",
     "text": [
      "\n"
     ]
    },
    {
     "data": {
      "text/html": [
       "<div>\n",
       "<style scoped>\n",
       "    .dataframe tbody tr th:only-of-type {\n",
       "        vertical-align: middle;\n",
       "    }\n",
       "\n",
       "    .dataframe tbody tr th {\n",
       "        vertical-align: top;\n",
       "    }\n",
       "\n",
       "    .dataframe thead th {\n",
       "        text-align: right;\n",
       "    }\n",
       "</style>\n",
       "<table border=\"1\" class=\"dataframe\">\n",
       "  <thead>\n",
       "    <tr style=\"text-align: right;\">\n",
       "      <th></th>\n",
       "      <th>time</th>\n",
       "      <th>current_response_time_percentile_50</th>\n",
       "      <th>current_response_time_percentile_95</th>\n",
       "      <th>fail_ratio</th>\n",
       "      <th>total_rps</th>\n",
       "      <th>user_count</th>\n",
       "      <th>avg_response_time</th>\n",
       "      <th>current_rps</th>\n",
       "      <th>max_response_time</th>\n",
       "      <th>median_response_time</th>\n",
       "      <th>min_response_time</th>\n",
       "      <th>num_failures</th>\n",
       "      <th>num_requests</th>\n",
       "      <th>elapsed</th>\n",
       "      <th>elapsed_min</th>\n",
       "    </tr>\n",
       "  </thead>\n",
       "  <tbody>\n",
       "    <tr>\n",
       "      <th>0</th>\n",
       "      <td>1.556834e+09</td>\n",
       "      <td>220.0</td>\n",
       "      <td>340.0</td>\n",
       "      <td>0.0</td>\n",
       "      <td>0.000000</td>\n",
       "      <td>50</td>\n",
       "      <td>223.873591</td>\n",
       "      <td>0.000000</td>\n",
       "      <td>400.253296</td>\n",
       "      <td>220.0</td>\n",
       "      <td>85.813522</td>\n",
       "      <td>0</td>\n",
       "      <td>50</td>\n",
       "      <td>0.000000</td>\n",
       "      <td>0.000000</td>\n",
       "    </tr>\n",
       "    <tr>\n",
       "      <th>1</th>\n",
       "      <td>1.556834e+09</td>\n",
       "      <td>220.0</td>\n",
       "      <td>340.0</td>\n",
       "      <td>0.0</td>\n",
       "      <td>0.000000</td>\n",
       "      <td>50</td>\n",
       "      <td>223.873591</td>\n",
       "      <td>0.000000</td>\n",
       "      <td>400.253296</td>\n",
       "      <td>220.0</td>\n",
       "      <td>85.813522</td>\n",
       "      <td>0</td>\n",
       "      <td>50</td>\n",
       "      <td>2.004426</td>\n",
       "      <td>0.033407</td>\n",
       "    </tr>\n",
       "    <tr>\n",
       "      <th>2</th>\n",
       "      <td>1.556834e+09</td>\n",
       "      <td>220.0</td>\n",
       "      <td>340.0</td>\n",
       "      <td>0.0</td>\n",
       "      <td>0.000000</td>\n",
       "      <td>50</td>\n",
       "      <td>223.873591</td>\n",
       "      <td>0.000000</td>\n",
       "      <td>400.253296</td>\n",
       "      <td>220.0</td>\n",
       "      <td>85.813522</td>\n",
       "      <td>0</td>\n",
       "      <td>50</td>\n",
       "      <td>4.001684</td>\n",
       "      <td>0.066695</td>\n",
       "    </tr>\n",
       "    <tr>\n",
       "      <th>3</th>\n",
       "      <td>1.556834e+09</td>\n",
       "      <td>140.0</td>\n",
       "      <td>320.0</td>\n",
       "      <td>0.0</td>\n",
       "      <td>10.000000</td>\n",
       "      <td>50</td>\n",
       "      <td>145.300659</td>\n",
       "      <td>10.000000</td>\n",
       "      <td>400.253296</td>\n",
       "      <td>140.0</td>\n",
       "      <td>24.105549</td>\n",
       "      <td>0</td>\n",
       "      <td>90</td>\n",
       "      <td>6.002152</td>\n",
       "      <td>0.100036</td>\n",
       "    </tr>\n",
       "    <tr>\n",
       "      <th>0</th>\n",
       "      <td>1.556834e+09</td>\n",
       "      <td>140.0</td>\n",
       "      <td>340.0</td>\n",
       "      <td>0.0</td>\n",
       "      <td>10.444444</td>\n",
       "      <td>100</td>\n",
       "      <td>155.947707</td>\n",
       "      <td>10.444444</td>\n",
       "      <td>409.751177</td>\n",
       "      <td>140.0</td>\n",
       "      <td>24.105549</td>\n",
       "      <td>0</td>\n",
       "      <td>156</td>\n",
       "      <td>10.212703</td>\n",
       "      <td>0.170212</td>\n",
       "    </tr>\n",
       "  </tbody>\n",
       "</table>\n",
       "</div>"
      ],
      "text/plain": [
       "           time  current_response_time_percentile_50  \\\n",
       "0  1.556834e+09                                220.0   \n",
       "1  1.556834e+09                                220.0   \n",
       "2  1.556834e+09                                220.0   \n",
       "3  1.556834e+09                                140.0   \n",
       "0  1.556834e+09                                140.0   \n",
       "\n",
       "   current_response_time_percentile_95  fail_ratio  total_rps  user_count  \\\n",
       "0                                340.0         0.0   0.000000          50   \n",
       "1                                340.0         0.0   0.000000          50   \n",
       "2                                340.0         0.0   0.000000          50   \n",
       "3                                320.0         0.0  10.000000          50   \n",
       "0                                340.0         0.0  10.444444         100   \n",
       "\n",
       "   avg_response_time  current_rps  max_response_time  median_response_time  \\\n",
       "0         223.873591     0.000000         400.253296                 220.0   \n",
       "1         223.873591     0.000000         400.253296                 220.0   \n",
       "2         223.873591     0.000000         400.253296                 220.0   \n",
       "3         145.300659    10.000000         400.253296                 140.0   \n",
       "0         155.947707    10.444444         409.751177                 140.0   \n",
       "\n",
       "   min_response_time  num_failures  num_requests    elapsed  elapsed_min  \n",
       "0          85.813522             0            50   0.000000     0.000000  \n",
       "1          85.813522             0            50   2.004426     0.033407  \n",
       "2          85.813522             0            50   4.001684     0.066695  \n",
       "3          24.105549             0            90   6.002152     0.100036  \n",
       "0          24.105549             0           156  10.212703     0.170212  "
      ]
     },
     "execution_count": 3,
     "metadata": {},
     "output_type": "execute_result"
    }
   ],
   "source": [
    "from tqdm.auto import tqdm\n",
    "tqdm.pandas()\n",
    "\n",
    "loop_timer = load_tester.TimerClass()\n",
    "total_timer = load_tester.TimerClass()\n",
    "\n",
    "user_sequence = [50,100,500,1000,1000,1000,500,100,50]\n",
    "lt = load_tester.DdslLoadTester(hatch_rate=1000, temp_stat_max_len=5, base='http://localhost:8089/')\n",
    "lt.change_count(user_sequence[0])\n",
    "lt.start_capturing()\n",
    "\n",
    "loop_timer.tic()\n",
    "total_timer.tic()\n",
    "\n",
    "results = None\n",
    "for i in tqdm(range(len(user_sequence))):\n",
    "    user_count = user_sequence[i]\n",
    "    lt.change_count(user_count)\n",
    "    \n",
    "    time.sleep(10 - loop_timer.toc())\n",
    "    \n",
    "    loop_timer.tic()\n",
    "    \n",
    "    result = lt.get_all_stats()\n",
    "    df_result = pd.DataFrame(data=result)\n",
    "    \n",
    "    if results is None:\n",
    "        results = df_result\n",
    "    else:\n",
    "        results = results.append(df_result)\n",
    "    \n",
    "lt.stop_test()\n",
    "\n",
    "results, filename = lt.prepare_results_from_df(results)\n",
    "\n",
    "results.head()"
   ]
  },
  {
   "cell_type": "markdown",
   "metadata": {},
   "source": [
    "# Showing Stats For Each Loop"
   ]
  },
  {
   "cell_type": "code",
   "execution_count": 4,
   "metadata": {},
   "outputs": [
    {
     "data": {
      "text/plain": [
       "{'time': [1556833594.384781,\n",
       "  1556833596.38133,\n",
       "  1556833598.387258,\n",
       "  1556833600.3843524,\n",
       "  1556833602.3892365],\n",
       " 'current_response_time_percentile_50': [26.224613189697266,\n",
       "  26.224613189697266,\n",
       "  25.999784469604492,\n",
       "  25.999784469604492,\n",
       "  25.91729164123535],\n",
       " 'current_response_time_percentile_95': [110, 110, 100, 100, 92.8659439086914],\n",
       " 'fail_ratio': [0.0, 0.0, 0.0, 0.0, 0.0],\n",
       " 'total_rps': [25.8, 25.8, 13.8, 13.8, 10.5],\n",
       " 'user_count': [50, 50, 50, 50, 50],\n",
       " 'avg_response_time': [330.45939713807644,\n",
       "  330.45939713807644,\n",
       "  329.39648941742297,\n",
       "  329.39648941742297,\n",
       "  327.71034189793136],\n",
       " 'current_rps': [25.8, 25.8, 13.8, 13.8, 10.5],\n",
       " 'max_response_time': [3441.922426223755,\n",
       "  3441.922426223755,\n",
       "  3441.922426223755,\n",
       "  3441.922426223755,\n",
       "  3441.922426223755],\n",
       " 'median_response_time': [98.92153739929199,\n",
       "  98.92153739929199,\n",
       "  98.45185279846191,\n",
       "  98.45185279846191,\n",
       "  97.55396842956543],\n",
       " 'min_response_time': [22.5369930267334,\n",
       "  22.5369930267334,\n",
       "  22.5369930267334,\n",
       "  22.5369930267334,\n",
       "  22.5369930267334],\n",
       " 'num_failures': [0, 0, 0, 0, 0],\n",
       " 'num_requests': [6213, 6213, 6236, 6236, 6273]}"
      ]
     },
     "execution_count": 4,
     "metadata": {},
     "output_type": "execute_result"
    }
   ],
   "source": [
    "result"
   ]
  },
  {
   "cell_type": "markdown",
   "metadata": {},
   "source": [
    "# Plotting The Sequence Results"
   ]
  },
  {
   "cell_type": "code",
   "execution_count": 8,
   "metadata": {},
   "outputs": [
    {
     "data": {
      "image/png": "[encoded data removed]",
      "text/plain": [
       "<Figure size 576x1296 with 4 Axes>"
      ]
     },
     "metadata": {
      "needs_background": "light"
     },
     "output_type": "display_data"
    }
   ],
   "source": [
    "res = results\n",
    "\n",
    "import matplotlib.pyplot as plt\n",
    "\n",
    "%matplotlib inline\n",
    "\n",
    "plt.figure(figsize=(8,18))\n",
    "plt.subplot(411)\n",
    "plt.plot(res['elapsed_min'], res['min_response_time'], label='min_response_time')\n",
    "plt.plot(res['elapsed_min'], res['current_response_time_percentile_50'], label='median_response_time')\n",
    "plt.plot(res['elapsed_min'], res['avg_response_time'], label='avg_response_time')\n",
    "plt.plot(res['elapsed_min'], res['current_response_time_percentile_95'], label='95th percentile')\n",
    "plt.plot(res['elapsed_min'], res['max_response_time'], label='max_response_time')\n",
    "\n",
    "plt.xlabel('Time (minutes)')\n",
    "plt.ylabel('Average Response Time (ms)')\n",
    "plt.legend()\n",
    "\n",
    "plt.subplot(412)\n",
    "plt.plot(res['elapsed_min'], res['user_count'])\n",
    "plt.xlabel('Time (minutes)')\n",
    "plt.ylabel('Num of Users')\n",
    "\n",
    "plt.subplot(413)\n",
    "plt.plot(res['elapsed_min'], res['total_rps'])\n",
    "plt.xlabel('Time (minutes)')\n",
    "plt.ylabel('Throughput (req/s)')\n",
    "\n",
    "plt.subplot(414)\n",
    "plt.plot(res['elapsed_min'], res['fail_ratio'])\n",
    "plt.xlabel('Time (minutes)')\n",
    "plt.ylabel('Fail Ratio')\n",
    "\n",
    "filename = filename.replace('.csv', '')\n",
    "plt.savefig(filename + '.png', dpi=300)\n",
    "plt.savefig(filename + '.pdf')\n",
    "plt.show()"
   ]
  },
  {
   "cell_type": "code",
   "execution_count": null,
   "metadata": {},
   "outputs": [],
   "source": []
  }
 ],
 "metadata": {
  "kernelspec": {
   "display_name": "Python 3",
   "language": "python",
   "name": "python3"
  },
  "language_info": {
   "codemirror_mode": {
    "name": "ipython",
    "version": 3
   },
   "file_extension": ".py",
   "mimetype": "text/x-python",
   "name": "python",
   "nbconvert_exporter": "python",
   "pygments_lexer": "ipython3",
   "version": "3.7.1"
  }
 },
 "nbformat": 4,
 "nbformat_minor": 2
}
