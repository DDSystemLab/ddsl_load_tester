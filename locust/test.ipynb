{
 "cells": [
  {
   "cell_type": "code",
   "execution_count": 1,
   "metadata": {
    "ExecuteTime": {
     "end_time": "2019-05-01T22:21:59.637236Z",
     "start_time": "2019-05-01T22:21:59.525418Z"
    }
   },
   "outputs": [],
   "source": [
    "%load_ext autoreload\n",
    "\n",
    "# Auto reloading causes the kernel to reload the libraries we have\n",
    "%autoreload 2\n",
    "\n",
    "import requests\n",
    "\n",
    "import ddsl_load_tester as load_tester"
   ]
  },
  {
   "cell_type": "markdown",
   "metadata": {},
   "source": [
    "# Testing Functionality"
   ]
  },
  {
   "cell_type": "code",
   "execution_count": 22,
   "metadata": {
    "ExecuteTime": {
     "end_time": "2019-05-01T22:37:36.565505Z",
     "start_time": "2019-05-01T22:37:36.525330Z"
    }
   },
   "outputs": [
    {
     "data": {
      "text/plain": [
       "{'current_response_time_percentile_50': None,\n",
       " 'current_response_time_percentile_95': None,\n",
       " 'errors': [],\n",
       " 'fail_ratio': 0.0,\n",
       " 'state': 'ready',\n",
       " 'stats': [{'avg_content_length': 0,\n",
       "   'avg_response_time': 0,\n",
       "   'current_rps': 0.0,\n",
       "   'max_response_time': 0,\n",
       "   'median_response_time': 0,\n",
       "   'method': None,\n",
       "   'min_response_time': 0,\n",
       "   'name': 'Total',\n",
       "   'num_failures': 0,\n",
       "   'num_requests': 0}],\n",
       " 'total_rps': 0.0,\n",
       " 'user_count': 0}"
      ]
     },
     "execution_count": 22,
     "metadata": {},
     "output_type": "execute_result"
    }
   ],
   "source": [
    "load_tester.get_current_stats()"
   ]
  },
  {
   "cell_type": "code",
   "execution_count": 5,
   "metadata": {
    "ExecuteTime": {
     "end_time": "2019-05-01T20:41:09.529155Z",
     "start_time": "2019-05-01T20:41:09.488141Z"
    }
   },
   "outputs": [
    {
     "data": {
      "text/plain": [
       "True"
      ]
     },
     "execution_count": 5,
     "metadata": {},
     "output_type": "execute_result"
    }
   ],
   "source": [
    "load_tester.set_target_user_count(50)"
   ]
  },
  {
   "cell_type": "code",
   "execution_count": 6,
   "metadata": {
    "ExecuteTime": {
     "end_time": "2019-05-01T20:41:09.826266Z",
     "start_time": "2019-05-01T20:41:09.797201Z"
    }
   },
   "outputs": [
    {
     "data": {
      "text/plain": [
       "True"
      ]
     },
     "execution_count": 6,
     "metadata": {},
     "output_type": "execute_result"
    }
   ],
   "source": [
    "load_tester.reset_stats()"
   ]
  },
  {
   "cell_type": "code",
   "execution_count": 7,
   "metadata": {
    "ExecuteTime": {
     "end_time": "2019-05-01T20:41:10.265462Z",
     "start_time": "2019-05-01T20:41:10.219323Z"
    }
   },
   "outputs": [
    {
     "data": {
      "text/plain": [
       "True"
      ]
     },
     "execution_count": 7,
     "metadata": {},
     "output_type": "execute_result"
    }
   ],
   "source": [
    "load_tester.stop_test()"
   ]
  },
  {
   "cell_type": "code",
   "execution_count": 43,
   "metadata": {
    "ExecuteTime": {
     "end_time": "2019-05-01T23:08:50.728251Z",
     "start_time": "2019-05-01T23:08:50.649505Z"
    }
   },
   "outputs": [
    {
     "data": {
      "text/plain": [
       "{'current_response_time_percentile_50': None,\n",
       " 'current_response_time_percentile_95': None,\n",
       " 'errors': [{'error': \"HTTPError('502 Server Error: Bad Gateway for url: http://wg2.nmahmoudi.ir:31112/function/pyfibo/',)\",\n",
       "   'method': 'GET',\n",
       "   'name': '/function/pyfibo/',\n",
       "   'occurences': 11676}],\n",
       " 'fail_ratio': 0.0,\n",
       " 'state': 'stopped',\n",
       " 'stats': [{'avg_content_length': 0,\n",
       "   'avg_response_time': 0,\n",
       "   'current_rps': 0.0,\n",
       "   'max_response_time': 0,\n",
       "   'median_response_time': 0,\n",
       "   'method': 'GET',\n",
       "   'min_response_time': 0,\n",
       "   'name': '/function/pyfibo/',\n",
       "   'num_failures': 0,\n",
       "   'num_requests': 0},\n",
       "  {'avg_content_length': 0,\n",
       "   'avg_response_time': 0,\n",
       "   'current_rps': 0.0,\n",
       "   'max_response_time': 0,\n",
       "   'median_response_time': 0,\n",
       "   'method': None,\n",
       "   'min_response_time': 0,\n",
       "   'name': 'Total',\n",
       "   'num_failures': 0,\n",
       "   'num_requests': 0}],\n",
       " 'total_rps': 0.0,\n",
       " 'user_count': 0}"
      ]
     },
     "execution_count": 43,
     "metadata": {},
     "output_type": "execute_result"
    }
   ],
   "source": [
    "load_tester.get_current_stats()"
   ]
  },
  {
   "cell_type": "markdown",
   "metadata": {},
   "source": [
    "# Testing Object"
   ]
  },
  {
   "cell_type": "code",
   "execution_count": 74,
   "metadata": {
    "ExecuteTime": {
     "end_time": "2019-05-01T23:29:06.529797Z",
     "start_time": "2019-05-01T23:29:06.456806Z"
    }
   },
   "outputs": [
    {
     "data": {
      "text/plain": [
       "True"
      ]
     },
     "execution_count": 74,
     "metadata": {},
     "output_type": "execute_result"
    }
   ],
   "source": [
    "lt = load_tester.DdslLoadTester(hatch_rate=100, temp_stat_max_len=5, base='http://localhost:8089/')\n",
    "lt.change_count(50)"
   ]
  },
  {
   "cell_type": "code",
   "execution_count": 75,
   "metadata": {
    "ExecuteTime": {
     "end_time": "2019-05-01T23:29:07.315445Z",
     "start_time": "2019-05-01T23:29:07.278041Z"
    }
   },
   "outputs": [],
   "source": [
    "lt.start_capturing()"
   ]
  },
  {
   "cell_type": "code",
   "execution_count": 77,
   "metadata": {
    "ExecuteTime": {
     "end_time": "2019-05-01T23:29:20.181561Z",
     "start_time": "2019-05-01T23:29:20.148411Z"
    }
   },
   "outputs": [
    {
     "data": {
      "text/plain": [
       "{'time': [1556753351.3287334,\n",
       "  1556753353.332906,\n",
       "  1556753355.3335166,\n",
       "  1556753357.3305836,\n",
       "  1556753359.3368878],\n",
       " 'current_response_time_percentile_50': [None, None, None, None, None],\n",
       " 'current_response_time_percentile_95': [None, None, None, None, None],\n",
       " 'fail_ratio': [0.0, 0.0, 0.0, 0.0, 0.0],\n",
       " 'total_rps': [0.0, 0.0, 0.0, 0.0, 0.0],\n",
       " 'user_count': [50, 50, 50, 50, 50],\n",
       " 'avg_response_time': [0,\n",
       "  53.74026298522949,\n",
       "  40.00663757324219,\n",
       "  40.00663757324219,\n",
       "  0],\n",
       " 'current_rps': [0.0, 0.0, 0.0, 0.0, 0.0],\n",
       " 'max_response_time': [0,\n",
       "  57.170867919921875,\n",
       "  78.32837104797363,\n",
       "  78.32837104797363,\n",
       "  0],\n",
       " 'median_response_time': [0,\n",
       "  50.30965805053711,\n",
       "  25.400876998901367,\n",
       "  25.400876998901367,\n",
       "  0],\n",
       " 'min_response_time': [0,\n",
       "  50.30965805053711,\n",
       "  23.400068283081055,\n",
       "  23.400068283081055,\n",
       "  0],\n",
       " 'num_failures': [0, 0, 0, 0, 0],\n",
       " 'num_requests': [0, 2, 10, 10, 0]}"
      ]
     },
     "execution_count": 77,
     "metadata": {},
     "output_type": "execute_result"
    }
   ],
   "source": [
    "lt.get_all_stats()"
   ]
  },
  {
   "cell_type": "code",
   "execution_count": 15,
   "metadata": {
    "ExecuteTime": {
     "end_time": "2019-05-01T20:42:39.528647Z",
     "start_time": "2019-05-01T20:42:39.491080Z"
    },
    "scrolled": true
   },
   "outputs": [
    {
     "data": {
      "text/plain": [
       "[{'current_response_time_percentile_50': 57.43908882141113,\n",
       "  'current_response_time_percentile_95': 98.80471229553223,\n",
       "  'errors': [],\n",
       "  'fail_ratio': 0.0,\n",
       "  'state': 'running',\n",
       "  'stats': [{'avg_content_length': 4.0,\n",
       "    'avg_response_time': 45.568084716796875,\n",
       "    'current_rps': 0.0,\n",
       "    'max_response_time': 98.80471229553223,\n",
       "    'median_response_time': 28.05781364440918,\n",
       "    'method': 'GET',\n",
       "    'min_response_time': 24.00517463684082,\n",
       "    'name': '/function/pyfibo/',\n",
       "    'num_failures': 0,\n",
       "    'num_requests': 15},\n",
       "   {'avg_content_length': 4.0,\n",
       "    'avg_response_time': 45.568084716796875,\n",
       "    'current_rps': 0.0,\n",
       "    'max_response_time': 98.80471229553223,\n",
       "    'median_response_time': 28.05781364440918,\n",
       "    'method': None,\n",
       "    'min_response_time': 24.00517463684082,\n",
       "    'name': 'Total',\n",
       "    'num_failures': 0,\n",
       "    'num_requests': 15}],\n",
       "  'total_rps': 0.0,\n",
       "  'user_count': 50,\n",
       "  'time': 1556743350.3435028},\n",
       " {'current_response_time_percentile_50': 36.06247901916504,\n",
       "  'current_response_time_percentile_95': 130,\n",
       "  'errors': [],\n",
       "  'fail_ratio': 0.0,\n",
       "  'state': 'running',\n",
       "  'stats': [{'avg_content_length': 4.0,\n",
       "    'avg_response_time': 55.91193267277309,\n",
       "    'current_rps': 0.0,\n",
       "    'max_response_time': 126.40786170959473,\n",
       "    'median_response_time': 32.33814239501953,\n",
       "    'method': 'GET',\n",
       "    'min_response_time': 24.779558181762695,\n",
       "    'name': '/function/pyfibo/',\n",
       "    'num_failures': 0,\n",
       "    'num_requests': 14},\n",
       "   {'avg_content_length': 4.0,\n",
       "    'avg_response_time': 55.91193267277309,\n",
       "    'current_rps': 0.0,\n",
       "    'max_response_time': 126.40786170959473,\n",
       "    'median_response_time': 32.33814239501953,\n",
       "    'method': None,\n",
       "    'min_response_time': 24.779558181762695,\n",
       "    'name': 'Total',\n",
       "    'num_failures': 0,\n",
       "    'num_requests': 14}],\n",
       "  'total_rps': 0.0,\n",
       "  'user_count': 50,\n",
       "  'time': 1556743352.3476195},\n",
       " {'current_response_time_percentile_50': 26.9467830657959,\n",
       "  'current_response_time_percentile_95': 94.6049690246582,\n",
       "  'errors': [],\n",
       "  'fail_ratio': 0.0,\n",
       "  'state': 'running',\n",
       "  'stats': [{'avg_content_length': 4.0,\n",
       "    'avg_response_time': 49.9715656042099,\n",
       "    'current_rps': 0.0,\n",
       "    'max_response_time': 115.04125595092773,\n",
       "    'median_response_time': 26.569843292236328,\n",
       "    'method': 'GET',\n",
       "    'min_response_time': 24.452686309814453,\n",
       "    'name': '/function/pyfibo/',\n",
       "    'num_failures': 0,\n",
       "    'num_requests': 16},\n",
       "   {'avg_content_length': 4.0,\n",
       "    'avg_response_time': 49.9715656042099,\n",
       "    'current_rps': 0.0,\n",
       "    'max_response_time': 115.04125595092773,\n",
       "    'median_response_time': 26.569843292236328,\n",
       "    'method': None,\n",
       "    'min_response_time': 24.452686309814453,\n",
       "    'name': 'Total',\n",
       "    'num_failures': 0,\n",
       "    'num_requests': 16}],\n",
       "  'total_rps': 0.0,\n",
       "  'user_count': 50,\n",
       "  'time': 1556743354.3609185},\n",
       " {'current_response_time_percentile_50': 26.9467830657959,\n",
       "  'current_response_time_percentile_95': 94.6049690246582,\n",
       "  'errors': [],\n",
       "  'fail_ratio': 0.0,\n",
       "  'state': 'running',\n",
       "  'stats': [{'avg_content_length': 4.0,\n",
       "    'avg_response_time': 49.9715656042099,\n",
       "    'current_rps': 0.0,\n",
       "    'max_response_time': 115.04125595092773,\n",
       "    'median_response_time': 26.569843292236328,\n",
       "    'method': 'GET',\n",
       "    'min_response_time': 24.452686309814453,\n",
       "    'name': '/function/pyfibo/',\n",
       "    'num_failures': 0,\n",
       "    'num_requests': 16},\n",
       "   {'avg_content_length': 4.0,\n",
       "    'avg_response_time': 49.9715656042099,\n",
       "    'current_rps': 0.0,\n",
       "    'max_response_time': 115.04125595092773,\n",
       "    'median_response_time': 26.569843292236328,\n",
       "    'method': None,\n",
       "    'min_response_time': 24.452686309814453,\n",
       "    'name': 'Total',\n",
       "    'num_failures': 0,\n",
       "    'num_requests': 16}],\n",
       "  'total_rps': 0.0,\n",
       "  'user_count': 50,\n",
       "  'time': 1556743356.3455503},\n",
       " {'current_response_time_percentile_50': 24.608612060546875,\n",
       "  'current_response_time_percentile_95': 29.848098754882812,\n",
       "  'errors': [],\n",
       "  'fail_ratio': 0.0,\n",
       "  'state': 'running',\n",
       "  'stats': [{'avg_content_length': 4.0,\n",
       "    'avg_response_time': 34.6970796585083,\n",
       "    'current_rps': 0.0,\n",
       "    'max_response_time': 89.65516090393066,\n",
       "    'median_response_time': 24.608612060546875,\n",
       "    'method': 'GET',\n",
       "    'min_response_time': 24.16682243347168,\n",
       "    'name': '/function/pyfibo/',\n",
       "    'num_failures': 0,\n",
       "    'num_requests': 10},\n",
       "   {'avg_content_length': 4.0,\n",
       "    'avg_response_time': 34.6970796585083,\n",
       "    'current_rps': 0.0,\n",
       "    'max_response_time': 89.65516090393066,\n",
       "    'median_response_time': 24.608612060546875,\n",
       "    'method': None,\n",
       "    'min_response_time': 24.16682243347168,\n",
       "    'name': 'Total',\n",
       "    'num_failures': 0,\n",
       "    'num_requests': 10}],\n",
       "  'total_rps': 0.0,\n",
       "  'user_count': 50,\n",
       "  'time': 1556743358.3501804}]"
      ]
     },
     "execution_count": 15,
     "metadata": {},
     "output_type": "execute_result"
    }
   ],
   "source": [
    "temp_stats = lt.get_temp_stats()\n",
    "temp_stats"
   ]
  },
  {
   "cell_type": "code",
   "execution_count": 16,
   "metadata": {
    "ExecuteTime": {
     "end_time": "2019-05-01T20:42:39.839921Z",
     "start_time": "2019-05-01T20:42:39.812891Z"
    }
   },
   "outputs": [
    {
     "data": {
      "text/plain": [
       "[57.43908882141113,\n",
       " 36.06247901916504,\n",
       " 26.9467830657959,\n",
       " 26.9467830657959,\n",
       " 24.608612060546875]"
      ]
     },
     "execution_count": 16,
     "metadata": {},
     "output_type": "execute_result"
    }
   ],
   "source": [
    "load_tester.get_stats_arr(temp_stats, 'current_response_time_percentile_50')"
   ]
  },
  {
   "cell_type": "code",
   "execution_count": 17,
   "metadata": {
    "ExecuteTime": {
     "end_time": "2019-05-01T20:42:40.940444Z",
     "start_time": "2019-05-01T20:42:40.912608Z"
    }
   },
   "outputs": [
    {
     "data": {
      "text/plain": [
       "[45.568084716796875,\n",
       " 55.91193267277309,\n",
       " 49.9715656042099,\n",
       " 49.9715656042099,\n",
       " 34.6970796585083]"
      ]
     },
     "execution_count": 17,
     "metadata": {},
     "output_type": "execute_result"
    }
   ],
   "source": [
    "load_tester.get_stats_arr_stats(temp_stats, 'avg_response_time')"
   ]
  },
  {
   "cell_type": "code",
   "execution_count": 73,
   "metadata": {
    "ExecuteTime": {
     "end_time": "2019-05-01T23:29:03.529213Z",
     "start_time": "2019-05-01T23:29:03.463568Z"
    }
   },
   "outputs": [
    {
     "data": {
      "text/plain": [
       "True"
      ]
     },
     "execution_count": 73,
     "metadata": {},
     "output_type": "execute_result"
    }
   ],
   "source": [
    "lt.stop_test()"
   ]
  },
  {
   "cell_type": "markdown",
   "metadata": {},
   "source": [
    "# Testing Sequence"
   ]
  },
  {
   "cell_type": "code",
   "execution_count": 86,
   "metadata": {
    "ExecuteTime": {
     "end_time": "2019-05-01T23:37:05.907106Z",
     "start_time": "2019-05-01T23:35:35.729867Z"
    }
   },
   "outputs": [
    {
     "data": {
      "application/vnd.jupyter.widget-view+json": {
       "model_id": "6b811f2d2ae8408a9a9377e5f16db69e",
       "version_major": 2,
       "version_minor": 0
      },
      "text/plain": [
       "HBox(children=(IntProgress(value=0, max=9), HTML(value='')))"
      ]
     },
     "metadata": {},
     "output_type": "display_data"
    },
    {
     "data": {
      "text/plain": [
       "True"
      ]
     },
     "execution_count": 86,
     "metadata": {},
     "output_type": "execute_result"
    }
   ],
   "source": [
    "import time\n",
    "\n",
    "loop_timer = load_tester.TimerClass()\n",
    "total_timer = load_tester.TimerClass()\n",
    "\n",
    "user_sequence = [50,100,500,1000,1000,1000,500,100,50]\n",
    "lt = load_tester.DdslLoadTester(hatch_rate=100, temp_stat_max_len=5, base='http://localhost:8089/')\n",
    "lt.change_count(user_sequence[0])\n",
    "lt.start_capturing()\n",
    "\n",
    "loop_timer.tic()\n",
    "total_timer.tic()\n",
    "\n",
    "from tqdm.auto import tqdm\n",
    "tqdm.pandas()\n",
    "\n",
    "results = []\n",
    "for i in tqdm(range(len(user_sequence))):\n",
    "    user_count = user_sequence[i]\n",
    "    lt.change_count(user_count)\n",
    "    \n",
    "    time.sleep(10 - loop_timer.toc())\n",
    "    \n",
    "    loop_timer.tic()\n",
    "    \n",
    "    result = lt.get_all_stats()\n",
    "    \n",
    "#     temp_stats = lt.get_temp_stats()\n",
    "#     result = {}\n",
    "#     result['avg_response_time'] = np.mean(np.array(load_tester.get_stats_arr_stats(temp_stats, 'avg_response_time')))\n",
    "#     result['max_response_time'] = np.max(np.array(load_tester.get_stats_arr_stats(temp_stats, 'max_response_time')))\n",
    "#     result['min_response_time'] = np.min(np.array(load_tester.get_stats_arr_stats(temp_stats, 'min_response_time')))\n",
    "#     result['fail_ratio'] = np.mean(np.array(load_tester.get_stats_arr(temp_stats, 'fail_ratio')))\n",
    "#     result['user_count'] = user_count\n",
    "#     result['time'] = total_timer.toc() / 60\n",
    "    results.append(result)\n",
    "    \n",
    "lt.stop_test()"
   ]
  },
  {
   "cell_type": "code",
   "execution_count": 87,
   "metadata": {
    "ExecuteTime": {
     "end_time": "2019-05-01T23:37:08.640526Z",
     "start_time": "2019-05-01T23:37:08.536013Z"
    }
   },
   "outputs": [
    {
     "data": {
      "text/html": [
       "<div>\n",
       "<style scoped>\n",
       "    .dataframe tbody tr th:only-of-type {\n",
       "        vertical-align: middle;\n",
       "    }\n",
       "\n",
       "    .dataframe tbody tr th {\n",
       "        vertical-align: top;\n",
       "    }\n",
       "\n",
       "    .dataframe thead th {\n",
       "        text-align: right;\n",
       "    }\n",
       "</style>\n",
       "<table border=\"1\" class=\"dataframe\">\n",
       "  <thead>\n",
       "    <tr style=\"text-align: right;\">\n",
       "      <th></th>\n",
       "      <th>avg_response_time</th>\n",
       "      <th>current_response_time_percentile_50</th>\n",
       "      <th>current_response_time_percentile_95</th>\n",
       "      <th>current_rps</th>\n",
       "      <th>fail_ratio</th>\n",
       "      <th>max_response_time</th>\n",
       "      <th>median_response_time</th>\n",
       "      <th>min_response_time</th>\n",
       "      <th>num_failures</th>\n",
       "      <th>num_requests</th>\n",
       "      <th>time</th>\n",
       "      <th>total_rps</th>\n",
       "      <th>user_count</th>\n",
       "    </tr>\n",
       "  </thead>\n",
       "  <tbody>\n",
       "    <tr>\n",
       "      <th>0</th>\n",
       "      <td>[0, 0, 0, 27.95189619064331]</td>\n",
       "      <td>[None, None, None, None]</td>\n",
       "      <td>[None, None, None, None]</td>\n",
       "      <td>[0.0, 0.0, 0.0, 0.0]</td>\n",
       "      <td>[0.0, 0.0, 0.0, 0.0]</td>\n",
       "      <td>[0, 0, 0, 31.142711639404297]</td>\n",
       "      <td>[0, 0, 0, 26.289701461791992]</td>\n",
       "      <td>[0, 0, 0, 25.658607482910156]</td>\n",
       "      <td>[0, 0, 0, 0]</td>\n",
       "      <td>[0, 0, 0, 4]</td>\n",
       "      <td>[1556753737.804115, 1556753739.8076336, 155675...</td>\n",
       "      <td>[0.0, 0.0, 0.0, 0.0]</td>\n",
       "      <td>[50, 50, 50, 50]</td>\n",
       "    </tr>\n",
       "    <tr>\n",
       "      <th>1</th>\n",
       "      <td>[32.35304355621338, 65.47905007998149, 40.5230...</td>\n",
       "      <td>[None, None, None, None, None]</td>\n",
       "      <td>[None, None, None, None, None]</td>\n",
       "      <td>[0.0, 0.0, 0.0, 0.0, 0.0]</td>\n",
       "      <td>[0.0, 0.0, 0.0, 0.0, 0.0]</td>\n",
       "      <td>[52.57391929626465, 127.26426124572754, 88.710...</td>\n",
       "      <td>[24.979114532470703, 78.21822166442871, 29.368...</td>\n",
       "      <td>[24.62005615234375, 36.65590286254883, 24.3837...</td>\n",
       "      <td>[0, 0, 0, 0, 0]</td>\n",
       "      <td>[4, 24, 5, 4, 8]</td>\n",
       "      <td>[1556753745.821853, 1556753747.8152251, 155675...</td>\n",
       "      <td>[0.0, 0.0, 0.0, 0.0, 0.0]</td>\n",
       "      <td>[50, 100, 100, 100, 100]</td>\n",
       "    </tr>\n",
       "    <tr>\n",
       "      <th>2</th>\n",
       "      <td>[40.890018145243324, 45.55032803462102, 0]</td>\n",
       "      <td>[None, None, None]</td>\n",
       "      <td>[None, None, None]</td>\n",
       "      <td>[0.0, 0.0, 0.0]</td>\n",
       "      <td>[0.0, 0.0, 0.0]</td>\n",
       "      <td>[70.46389579772949, 69.39387321472168, 0]</td>\n",
       "      <td>[27.46868133544922, 44.725656509399414, 0]</td>\n",
       "      <td>[24.747610092163086, 23.775100708007812, 0]</td>\n",
       "      <td>[0, 0, 0]</td>\n",
       "      <td>[6, 13, 0]</td>\n",
       "      <td>[1556753755.8301723, 1556753761.8303337, 15567...</td>\n",
       "      <td>[0.0, 0.0, 0.0]</td>\n",
       "      <td>[100, 500, 500]</td>\n",
       "    </tr>\n",
       "    <tr>\n",
       "      <th>3</th>\n",
       "      <td>[0, 280.30375639597577, 69.92030143737793]</td>\n",
       "      <td>[None, None, None]</td>\n",
       "      <td>[None, None, None]</td>\n",
       "      <td>[0.0, 0.0, 0.0]</td>\n",
       "      <td>[0.0, 0.0, 0.0]</td>\n",
       "      <td>[0, 347.8202819824219, 115.41104316711426]</td>\n",
       "      <td>[0, 260, 70.41049003601074]</td>\n",
       "      <td>[0, 239.24684524536133, 25.096893310546875]</td>\n",
       "      <td>[0, 0, 0]</td>\n",
       "      <td>[0, 6, 9]</td>\n",
       "      <td>[1556753765.8445244, 1556753771.8472726, 15567...</td>\n",
       "      <td>[0.0, 0.0, 0.0]</td>\n",
       "      <td>[500, 1000, 1000]</td>\n",
       "    </tr>\n",
       "    <tr>\n",
       "      <th>4</th>\n",
       "      <td>[69.92030143737793, 87.86227152897762, 95.8531...</td>\n",
       "      <td>[None, None, None, None, None]</td>\n",
       "      <td>[None, None, None, None, None]</td>\n",
       "      <td>[0.0, 0.0, 0.0, 0.0, 0.0]</td>\n",
       "      <td>[0.0, 0.0, 0.0, 0.0, 0.0]</td>\n",
       "      <td>[115.41104316711426, 180.8309555053711, 233.41...</td>\n",
       "      <td>[70.41049003601074, 78.39202880859375, 80.3282...</td>\n",
       "      <td>[25.096893310546875, 25.673389434814453, 22.68...</td>\n",
       "      <td>[0, 0, 0, 0, 0]</td>\n",
       "      <td>[9, 52, 99, 94, 96]</td>\n",
       "      <td>[1556753775.844755, 1556753777.8546805, 155675...</td>\n",
       "      <td>[0.0, 0.0, 0.0, 0.0, 0.0]</td>\n",
       "      <td>[1000, 1000, 1000, 1000, 1000]</td>\n",
       "    </tr>\n",
       "    <tr>\n",
       "      <th>5</th>\n",
       "      <td>[97.35682275560167, 114.27308582678074, 168.77...</td>\n",
       "      <td>[None, None, None, None, None]</td>\n",
       "      <td>[None, None, None, None, None]</td>\n",
       "      <td>[0.0, 0.0, 0.0, 0.0, 0.0]</td>\n",
       "      <td>[0.0, 0.0, 0.0, 0.0, 0.0]</td>\n",
       "      <td>[222.60475158691406, 317.1060085296631, 310.47...</td>\n",
       "      <td>[76.5383243560791, 95.83449363708496, 170, 73....</td>\n",
       "      <td>[23.52428436279297, 22.116661071777344, 65.917...</td>\n",
       "      <td>[0, 0, 0, 0, 0]</td>\n",
       "      <td>[81, 82, 32, 35, 34]</td>\n",
       "      <td>[1556753785.866472, 1556753787.863009, 1556753...</td>\n",
       "      <td>[0.0, 0.0, 0.0, 0.0, 0.0]</td>\n",
       "      <td>[1000, 1000, 1000, 1000, 1000]</td>\n",
       "    </tr>\n",
       "    <tr>\n",
       "      <th>6</th>\n",
       "      <td>[0, 0, 0, 0, 69.64445114135742]</td>\n",
       "      <td>[None, None, None, None, None]</td>\n",
       "      <td>[None, None, None, None, None]</td>\n",
       "      <td>[0.0, 0.0, 0.0, 0.0, 0.0]</td>\n",
       "      <td>[0.0, 0.0, 0.0, 0.0, 0.0]</td>\n",
       "      <td>[0, 0, 0, 0, 69.64445114135742]</td>\n",
       "      <td>[0, 0, 0, 0, 69.64445114135742]</td>\n",
       "      <td>[0, 0, 0, 0, 69.64445114135742]</td>\n",
       "      <td>[0, 0, 0, 0, 0]</td>\n",
       "      <td>[0, 0, 0, 0, 1]</td>\n",
       "      <td>[1556753795.885185, 1556753797.8772962, 155675...</td>\n",
       "      <td>[0.0, 0.0, 0.0, 0.0, 0.0]</td>\n",
       "      <td>[1000, 500, 500, 500, 500]</td>\n",
       "    </tr>\n",
       "    <tr>\n",
       "      <th>7</th>\n",
       "      <td>[68.07851791381836, 0, 0, 69.10467147827148, 0]</td>\n",
       "      <td>[None, None, None, None, None]</td>\n",
       "      <td>[None, None, None, None, None]</td>\n",
       "      <td>[0.0, 0.0, 0.0, 0.0, 0.0]</td>\n",
       "      <td>[0.0, 0.0, 0.0, 0.0, 0.0]</td>\n",
       "      <td>[68.07851791381836, 0, 0, 69.10467147827148, 0]</td>\n",
       "      <td>[68.07851791381836, 0, 0, 69.10467147827148, 0]</td>\n",
       "      <td>[68.07851791381836, 0, 0, 69.10467147827148, 0]</td>\n",
       "      <td>[0, 0, 0, 0, 0]</td>\n",
       "      <td>[1, 0, 0, 1, 0]</td>\n",
       "      <td>[1556753805.88187, 1556753807.8862, 1556753809...</td>\n",
       "      <td>[0.0, 0.0, 0.0, 0.0, 0.0]</td>\n",
       "      <td>[500, 100, 100, 100, 100]</td>\n",
       "    </tr>\n",
       "    <tr>\n",
       "      <th>8</th>\n",
       "      <td>[0, 27.336835861206055, 34.53735510508219, 40....</td>\n",
       "      <td>[None, None, None, None, None]</td>\n",
       "      <td>[None, None, None, None, None]</td>\n",
       "      <td>[0.0, 0.0, 0.0, 0.0, 0.0]</td>\n",
       "      <td>[0.0, 0.0, 0.0, 0.0, 0.0]</td>\n",
       "      <td>[0, 28.98240089416504, 67.53993034362793, 82.1...</td>\n",
       "      <td>[0, 25.69127082824707, 25.87747573852539, 26.7...</td>\n",
       "      <td>[0, 25.69127082824707, 24.270296096801758, 25....</td>\n",
       "      <td>[0, 0, 0, 0, 0]</td>\n",
       "      <td>[0, 2, 6, 4, 8]</td>\n",
       "      <td>[1556753815.8902915, 1556753817.8965285, 15567...</td>\n",
       "      <td>[0.0, 0.0, 0.0, 0.0, 0.0]</td>\n",
       "      <td>[100, 50, 50, 50, 50]</td>\n",
       "    </tr>\n",
       "  </tbody>\n",
       "</table>\n",
       "</div>"
      ],
      "text/plain": [
       "                                   avg_response_time  \\\n",
       "0                       [0, 0, 0, 27.95189619064331]   \n",
       "1  [32.35304355621338, 65.47905007998149, 40.5230...   \n",
       "2         [40.890018145243324, 45.55032803462102, 0]   \n",
       "3         [0, 280.30375639597577, 69.92030143737793]   \n",
       "4  [69.92030143737793, 87.86227152897762, 95.8531...   \n",
       "5  [97.35682275560167, 114.27308582678074, 168.77...   \n",
       "6                    [0, 0, 0, 0, 69.64445114135742]   \n",
       "7    [68.07851791381836, 0, 0, 69.10467147827148, 0]   \n",
       "8  [0, 27.336835861206055, 34.53735510508219, 40....   \n",
       "\n",
       "  current_response_time_percentile_50 current_response_time_percentile_95  \\\n",
       "0            [None, None, None, None]            [None, None, None, None]   \n",
       "1      [None, None, None, None, None]      [None, None, None, None, None]   \n",
       "2                  [None, None, None]                  [None, None, None]   \n",
       "3                  [None, None, None]                  [None, None, None]   \n",
       "4      [None, None, None, None, None]      [None, None, None, None, None]   \n",
       "5      [None, None, None, None, None]      [None, None, None, None, None]   \n",
       "6      [None, None, None, None, None]      [None, None, None, None, None]   \n",
       "7      [None, None, None, None, None]      [None, None, None, None, None]   \n",
       "8      [None, None, None, None, None]      [None, None, None, None, None]   \n",
       "\n",
       "                 current_rps                 fail_ratio  \\\n",
       "0       [0.0, 0.0, 0.0, 0.0]       [0.0, 0.0, 0.0, 0.0]   \n",
       "1  [0.0, 0.0, 0.0, 0.0, 0.0]  [0.0, 0.0, 0.0, 0.0, 0.0]   \n",
       "2            [0.0, 0.0, 0.0]            [0.0, 0.0, 0.0]   \n",
       "3            [0.0, 0.0, 0.0]            [0.0, 0.0, 0.0]   \n",
       "4  [0.0, 0.0, 0.0, 0.0, 0.0]  [0.0, 0.0, 0.0, 0.0, 0.0]   \n",
       "5  [0.0, 0.0, 0.0, 0.0, 0.0]  [0.0, 0.0, 0.0, 0.0, 0.0]   \n",
       "6  [0.0, 0.0, 0.0, 0.0, 0.0]  [0.0, 0.0, 0.0, 0.0, 0.0]   \n",
       "7  [0.0, 0.0, 0.0, 0.0, 0.0]  [0.0, 0.0, 0.0, 0.0, 0.0]   \n",
       "8  [0.0, 0.0, 0.0, 0.0, 0.0]  [0.0, 0.0, 0.0, 0.0, 0.0]   \n",
       "\n",
       "                                   max_response_time  \\\n",
       "0                      [0, 0, 0, 31.142711639404297]   \n",
       "1  [52.57391929626465, 127.26426124572754, 88.710...   \n",
       "2          [70.46389579772949, 69.39387321472168, 0]   \n",
       "3         [0, 347.8202819824219, 115.41104316711426]   \n",
       "4  [115.41104316711426, 180.8309555053711, 233.41...   \n",
       "5  [222.60475158691406, 317.1060085296631, 310.47...   \n",
       "6                    [0, 0, 0, 0, 69.64445114135742]   \n",
       "7    [68.07851791381836, 0, 0, 69.10467147827148, 0]   \n",
       "8  [0, 28.98240089416504, 67.53993034362793, 82.1...   \n",
       "\n",
       "                                median_response_time  \\\n",
       "0                      [0, 0, 0, 26.289701461791992]   \n",
       "1  [24.979114532470703, 78.21822166442871, 29.368...   \n",
       "2         [27.46868133544922, 44.725656509399414, 0]   \n",
       "3                        [0, 260, 70.41049003601074]   \n",
       "4  [70.41049003601074, 78.39202880859375, 80.3282...   \n",
       "5  [76.5383243560791, 95.83449363708496, 170, 73....   \n",
       "6                    [0, 0, 0, 0, 69.64445114135742]   \n",
       "7    [68.07851791381836, 0, 0, 69.10467147827148, 0]   \n",
       "8  [0, 25.69127082824707, 25.87747573852539, 26.7...   \n",
       "\n",
       "                                   min_response_time     num_failures  \\\n",
       "0                      [0, 0, 0, 25.658607482910156]     [0, 0, 0, 0]   \n",
       "1  [24.62005615234375, 36.65590286254883, 24.3837...  [0, 0, 0, 0, 0]   \n",
       "2        [24.747610092163086, 23.775100708007812, 0]        [0, 0, 0]   \n",
       "3        [0, 239.24684524536133, 25.096893310546875]        [0, 0, 0]   \n",
       "4  [25.096893310546875, 25.673389434814453, 22.68...  [0, 0, 0, 0, 0]   \n",
       "5  [23.52428436279297, 22.116661071777344, 65.917...  [0, 0, 0, 0, 0]   \n",
       "6                    [0, 0, 0, 0, 69.64445114135742]  [0, 0, 0, 0, 0]   \n",
       "7    [68.07851791381836, 0, 0, 69.10467147827148, 0]  [0, 0, 0, 0, 0]   \n",
       "8  [0, 25.69127082824707, 24.270296096801758, 25....  [0, 0, 0, 0, 0]   \n",
       "\n",
       "           num_requests                                               time  \\\n",
       "0          [0, 0, 0, 4]  [1556753737.804115, 1556753739.8076336, 155675...   \n",
       "1      [4, 24, 5, 4, 8]  [1556753745.821853, 1556753747.8152251, 155675...   \n",
       "2            [6, 13, 0]  [1556753755.8301723, 1556753761.8303337, 15567...   \n",
       "3             [0, 6, 9]  [1556753765.8445244, 1556753771.8472726, 15567...   \n",
       "4   [9, 52, 99, 94, 96]  [1556753775.844755, 1556753777.8546805, 155675...   \n",
       "5  [81, 82, 32, 35, 34]  [1556753785.866472, 1556753787.863009, 1556753...   \n",
       "6       [0, 0, 0, 0, 1]  [1556753795.885185, 1556753797.8772962, 155675...   \n",
       "7       [1, 0, 0, 1, 0]  [1556753805.88187, 1556753807.8862, 1556753809...   \n",
       "8       [0, 2, 6, 4, 8]  [1556753815.8902915, 1556753817.8965285, 15567...   \n",
       "\n",
       "                   total_rps                      user_count  \n",
       "0       [0.0, 0.0, 0.0, 0.0]                [50, 50, 50, 50]  \n",
       "1  [0.0, 0.0, 0.0, 0.0, 0.0]        [50, 100, 100, 100, 100]  \n",
       "2            [0.0, 0.0, 0.0]                 [100, 500, 500]  \n",
       "3            [0.0, 0.0, 0.0]               [500, 1000, 1000]  \n",
       "4  [0.0, 0.0, 0.0, 0.0, 0.0]  [1000, 1000, 1000, 1000, 1000]  \n",
       "5  [0.0, 0.0, 0.0, 0.0, 0.0]  [1000, 1000, 1000, 1000, 1000]  \n",
       "6  [0.0, 0.0, 0.0, 0.0, 0.0]      [1000, 500, 500, 500, 500]  \n",
       "7  [0.0, 0.0, 0.0, 0.0, 0.0]       [500, 100, 100, 100, 100]  \n",
       "8  [0.0, 0.0, 0.0, 0.0, 0.0]           [100, 50, 50, 50, 50]  "
      ]
     },
     "execution_count": 87,
     "metadata": {},
     "output_type": "execute_result"
    }
   ],
   "source": [
    "import pandas as pd\n",
    "\n",
    "res = pd.DataFrame(data=results)\n",
    "res"
   ]
  },
  {
   "cell_type": "code",
   "execution_count": 92,
   "metadata": {
    "ExecuteTime": {
     "end_time": "2019-05-01T23:45:08.816360Z",
     "start_time": "2019-05-01T23:45:08.763561Z"
    }
   },
   "outputs": [
    {
     "data": {
      "text/plain": [
       "{'time': {0: 1556753815.8902915,\n",
       "  1: 1556753817.8965285,\n",
       "  2: 1556753819.8942451,\n",
       "  3: 1556753821.8993683,\n",
       "  4: 1556753823.900712},\n",
       " 'current_response_time_percentile_50': {0: None,\n",
       "  1: None,\n",
       "  2: None,\n",
       "  3: None,\n",
       "  4: None},\n",
       " 'current_response_time_percentile_95': {0: None,\n",
       "  1: None,\n",
       "  2: None,\n",
       "  3: None,\n",
       "  4: None},\n",
       " 'fail_ratio': {0: 0.0, 1: 0.0, 2: 0.0, 3: 0.0, 4: 0.0},\n",
       " 'total_rps': {0: 0.0, 1: 0.0, 2: 0.0, 3: 0.0, 4: 0.0},\n",
       " 'user_count': {0: 100, 1: 50, 2: 50, 3: 50, 4: 50},\n",
       " 'avg_response_time': {0: 0.0,\n",
       "  1: 27.336835861206055,\n",
       "  2: 34.53735510508219,\n",
       "  3: 40.860772132873535,\n",
       "  4: 30.777275562286377},\n",
       " 'current_rps': {0: 0.0, 1: 0.0, 2: 0.0, 3: 0.0, 4: 0.0},\n",
       " 'max_response_time': {0: 0.0,\n",
       "  1: 28.98240089416504,\n",
       "  2: 67.53993034362793,\n",
       "  3: 82.17024803161621,\n",
       "  4: 67.12937355041504},\n",
       " 'median_response_time': {0: 0.0,\n",
       "  1: 25.69127082824707,\n",
       "  2: 25.87747573852539,\n",
       "  3: 26.76868438720703,\n",
       "  4: 25.44260025024414},\n",
       " 'min_response_time': {0: 0.0,\n",
       "  1: 25.69127082824707,\n",
       "  2: 24.270296096801758,\n",
       "  3: 25.86531639099121,\n",
       "  4: 24.146556854248047},\n",
       " 'num_failures': {0: 0, 1: 0, 2: 0, 3: 0, 4: 0},\n",
       " 'num_requests': {0: 0, 1: 2, 2: 6, 3: 4, 4: 8}}"
      ]
     },
     "execution_count": 92,
     "metadata": {},
     "output_type": "execute_result"
    }
   ],
   "source": [
    "r = pd.DataFrame(data=result)\n",
    "r.to_dict()"
   ]
  },
  {
   "cell_type": "code",
   "execution_count": 85,
   "metadata": {
    "ExecuteTime": {
     "end_time": "2019-05-01T23:34:34.275116Z",
     "start_time": "2019-05-01T23:34:33.622239Z"
    }
   },
   "outputs": [
    {
     "ename": "ValueError",
     "evalue": "setting an array element with a sequence.",
     "output_type": "error",
     "traceback": [
      "\u001b[0;31m---------------------------------------------------------------------------\u001b[0m",
      "\u001b[0;31mValueError\u001b[0m                                Traceback (most recent call last)",
      "\u001b[0;32m<ipython-input-85-63e47a8378d6>\u001b[0m in \u001b[0;36m<module>\u001b[0;34m\u001b[0m\n\u001b[1;32m      5\u001b[0m \u001b[0mplt\u001b[0m\u001b[0;34m.\u001b[0m\u001b[0mfigure\u001b[0m\u001b[0;34m(\u001b[0m\u001b[0mfigsize\u001b[0m\u001b[0;34m=\u001b[0m\u001b[0;34m(\u001b[0m\u001b[0;36m12\u001b[0m\u001b[0;34m,\u001b[0m\u001b[0;36m20\u001b[0m\u001b[0;34m)\u001b[0m\u001b[0;34m)\u001b[0m\u001b[0;34m\u001b[0m\u001b[0;34m\u001b[0m\u001b[0m\n\u001b[1;32m      6\u001b[0m \u001b[0mplt\u001b[0m\u001b[0;34m.\u001b[0m\u001b[0msubplot\u001b[0m\u001b[0;34m(\u001b[0m\u001b[0;36m311\u001b[0m\u001b[0;34m)\u001b[0m\u001b[0;34m\u001b[0m\u001b[0;34m\u001b[0m\u001b[0m\n\u001b[0;32m----> 7\u001b[0;31m \u001b[0mplt\u001b[0m\u001b[0;34m.\u001b[0m\u001b[0mplot\u001b[0m\u001b[0;34m(\u001b[0m\u001b[0mres\u001b[0m\u001b[0;34m[\u001b[0m\u001b[0;34m'time'\u001b[0m\u001b[0;34m]\u001b[0m\u001b[0;34m,\u001b[0m \u001b[0mres\u001b[0m\u001b[0;34m[\u001b[0m\u001b[0;34m'avg_response_time'\u001b[0m\u001b[0;34m]\u001b[0m\u001b[0;34m,\u001b[0m \u001b[0mlabel\u001b[0m\u001b[0;34m=\u001b[0m\u001b[0;34m'avg_response_time'\u001b[0m\u001b[0;34m)\u001b[0m\u001b[0;34m\u001b[0m\u001b[0;34m\u001b[0m\u001b[0m\n\u001b[0m\u001b[1;32m      8\u001b[0m \u001b[0mplt\u001b[0m\u001b[0;34m.\u001b[0m\u001b[0mplot\u001b[0m\u001b[0;34m(\u001b[0m\u001b[0mres\u001b[0m\u001b[0;34m[\u001b[0m\u001b[0;34m'time'\u001b[0m\u001b[0;34m]\u001b[0m\u001b[0;34m,\u001b[0m \u001b[0mres\u001b[0m\u001b[0;34m[\u001b[0m\u001b[0;34m'max_response_time'\u001b[0m\u001b[0;34m]\u001b[0m\u001b[0;34m,\u001b[0m \u001b[0mlabel\u001b[0m\u001b[0;34m=\u001b[0m\u001b[0;34m'max_response_time'\u001b[0m\u001b[0;34m)\u001b[0m\u001b[0;34m\u001b[0m\u001b[0;34m\u001b[0m\u001b[0m\n\u001b[1;32m      9\u001b[0m \u001b[0mplt\u001b[0m\u001b[0;34m.\u001b[0m\u001b[0mplot\u001b[0m\u001b[0;34m(\u001b[0m\u001b[0mres\u001b[0m\u001b[0;34m[\u001b[0m\u001b[0;34m'time'\u001b[0m\u001b[0;34m]\u001b[0m\u001b[0;34m,\u001b[0m \u001b[0mres\u001b[0m\u001b[0;34m[\u001b[0m\u001b[0;34m'min_response_time'\u001b[0m\u001b[0;34m]\u001b[0m\u001b[0;34m,\u001b[0m \u001b[0mlabel\u001b[0m\u001b[0;34m=\u001b[0m\u001b[0;34m'min_response_time'\u001b[0m\u001b[0;34m)\u001b[0m\u001b[0;34m\u001b[0m\u001b[0;34m\u001b[0m\u001b[0m\n",
      "\u001b[0;32m~/anaconda3/envs/mlse/lib/python3.6/site-packages/matplotlib/pyplot.py\u001b[0m in \u001b[0;36mplot\u001b[0;34m(scalex, scaley, data, *args, **kwargs)\u001b[0m\n\u001b[1;32m   2809\u001b[0m     return gca().plot(\n\u001b[1;32m   2810\u001b[0m         *args, scalex=scalex, scaley=scaley, **({\"data\": data} if data\n\u001b[0;32m-> 2811\u001b[0;31m         is not None else {}), **kwargs)\n\u001b[0m\u001b[1;32m   2812\u001b[0m \u001b[0;34m\u001b[0m\u001b[0m\n\u001b[1;32m   2813\u001b[0m \u001b[0;34m\u001b[0m\u001b[0m\n",
      "\u001b[0;32m~/anaconda3/envs/mlse/lib/python3.6/site-packages/matplotlib/__init__.py\u001b[0m in \u001b[0;36minner\u001b[0;34m(ax, data, *args, **kwargs)\u001b[0m\n\u001b[1;32m   1808\u001b[0m                         \u001b[0;34m\"the Matplotlib list!)\"\u001b[0m \u001b[0;34m%\u001b[0m \u001b[0;34m(\u001b[0m\u001b[0mlabel_namer\u001b[0m\u001b[0;34m,\u001b[0m \u001b[0mfunc\u001b[0m\u001b[0;34m.\u001b[0m\u001b[0m__name__\u001b[0m\u001b[0;34m)\u001b[0m\u001b[0;34m,\u001b[0m\u001b[0;34m\u001b[0m\u001b[0;34m\u001b[0m\u001b[0m\n\u001b[1;32m   1809\u001b[0m                         RuntimeWarning, stacklevel=2)\n\u001b[0;32m-> 1810\u001b[0;31m             \u001b[0;32mreturn\u001b[0m \u001b[0mfunc\u001b[0m\u001b[0;34m(\u001b[0m\u001b[0max\u001b[0m\u001b[0;34m,\u001b[0m \u001b[0;34m*\u001b[0m\u001b[0margs\u001b[0m\u001b[0;34m,\u001b[0m \u001b[0;34m**\u001b[0m\u001b[0mkwargs\u001b[0m\u001b[0;34m)\u001b[0m\u001b[0;34m\u001b[0m\u001b[0;34m\u001b[0m\u001b[0m\n\u001b[0m\u001b[1;32m   1811\u001b[0m \u001b[0;34m\u001b[0m\u001b[0m\n\u001b[1;32m   1812\u001b[0m         inner.__doc__ = _add_data_doc(inner.__doc__,\n",
      "\u001b[0;32m~/anaconda3/envs/mlse/lib/python3.6/site-packages/matplotlib/axes/_axes.py\u001b[0m in \u001b[0;36mplot\u001b[0;34m(self, scalex, scaley, *args, **kwargs)\u001b[0m\n\u001b[1;32m   1610\u001b[0m \u001b[0;34m\u001b[0m\u001b[0m\n\u001b[1;32m   1611\u001b[0m         \u001b[0;32mfor\u001b[0m \u001b[0mline\u001b[0m \u001b[0;32min\u001b[0m \u001b[0mself\u001b[0m\u001b[0;34m.\u001b[0m\u001b[0m_get_lines\u001b[0m\u001b[0;34m(\u001b[0m\u001b[0;34m*\u001b[0m\u001b[0margs\u001b[0m\u001b[0;34m,\u001b[0m \u001b[0;34m**\u001b[0m\u001b[0mkwargs\u001b[0m\u001b[0;34m)\u001b[0m\u001b[0;34m:\u001b[0m\u001b[0;34m\u001b[0m\u001b[0;34m\u001b[0m\u001b[0m\n\u001b[0;32m-> 1612\u001b[0;31m             \u001b[0mself\u001b[0m\u001b[0;34m.\u001b[0m\u001b[0madd_line\u001b[0m\u001b[0;34m(\u001b[0m\u001b[0mline\u001b[0m\u001b[0;34m)\u001b[0m\u001b[0;34m\u001b[0m\u001b[0;34m\u001b[0m\u001b[0m\n\u001b[0m\u001b[1;32m   1613\u001b[0m             \u001b[0mlines\u001b[0m\u001b[0;34m.\u001b[0m\u001b[0mappend\u001b[0m\u001b[0;34m(\u001b[0m\u001b[0mline\u001b[0m\u001b[0;34m)\u001b[0m\u001b[0;34m\u001b[0m\u001b[0;34m\u001b[0m\u001b[0m\n\u001b[1;32m   1614\u001b[0m \u001b[0;34m\u001b[0m\u001b[0m\n",
      "\u001b[0;32m~/anaconda3/envs/mlse/lib/python3.6/site-packages/matplotlib/axes/_base.py\u001b[0m in \u001b[0;36madd_line\u001b[0;34m(self, line)\u001b[0m\n\u001b[1;32m   1893\u001b[0m             \u001b[0mline\u001b[0m\u001b[0;34m.\u001b[0m\u001b[0mset_clip_path\u001b[0m\u001b[0;34m(\u001b[0m\u001b[0mself\u001b[0m\u001b[0;34m.\u001b[0m\u001b[0mpatch\u001b[0m\u001b[0;34m)\u001b[0m\u001b[0;34m\u001b[0m\u001b[0;34m\u001b[0m\u001b[0m\n\u001b[1;32m   1894\u001b[0m \u001b[0;34m\u001b[0m\u001b[0m\n\u001b[0;32m-> 1895\u001b[0;31m         \u001b[0mself\u001b[0m\u001b[0;34m.\u001b[0m\u001b[0m_update_line_limits\u001b[0m\u001b[0;34m(\u001b[0m\u001b[0mline\u001b[0m\u001b[0;34m)\u001b[0m\u001b[0;34m\u001b[0m\u001b[0;34m\u001b[0m\u001b[0m\n\u001b[0m\u001b[1;32m   1896\u001b[0m         \u001b[0;32mif\u001b[0m \u001b[0;32mnot\u001b[0m \u001b[0mline\u001b[0m\u001b[0;34m.\u001b[0m\u001b[0mget_label\u001b[0m\u001b[0;34m(\u001b[0m\u001b[0;34m)\u001b[0m\u001b[0;34m:\u001b[0m\u001b[0;34m\u001b[0m\u001b[0;34m\u001b[0m\u001b[0m\n\u001b[1;32m   1897\u001b[0m             \u001b[0mline\u001b[0m\u001b[0;34m.\u001b[0m\u001b[0mset_label\u001b[0m\u001b[0;34m(\u001b[0m\u001b[0;34m'_line%d'\u001b[0m \u001b[0;34m%\u001b[0m \u001b[0mlen\u001b[0m\u001b[0;34m(\u001b[0m\u001b[0mself\u001b[0m\u001b[0;34m.\u001b[0m\u001b[0mlines\u001b[0m\u001b[0;34m)\u001b[0m\u001b[0;34m)\u001b[0m\u001b[0;34m\u001b[0m\u001b[0;34m\u001b[0m\u001b[0m\n",
      "\u001b[0;32m~/anaconda3/envs/mlse/lib/python3.6/site-packages/matplotlib/axes/_base.py\u001b[0m in \u001b[0;36m_update_line_limits\u001b[0;34m(self, line)\u001b[0m\n\u001b[1;32m   1915\u001b[0m         \u001b[0mFigures\u001b[0m \u001b[0mout\u001b[0m \u001b[0mthe\u001b[0m \u001b[0mdata\u001b[0m \u001b[0mlimit\u001b[0m \u001b[0mof\u001b[0m \u001b[0mthe\u001b[0m \u001b[0mgiven\u001b[0m \u001b[0mline\u001b[0m\u001b[0;34m,\u001b[0m \u001b[0mupdating\u001b[0m \u001b[0mself\u001b[0m\u001b[0;34m.\u001b[0m\u001b[0mdataLim\u001b[0m\u001b[0;34m.\u001b[0m\u001b[0;34m\u001b[0m\u001b[0;34m\u001b[0m\u001b[0m\n\u001b[1;32m   1916\u001b[0m         \"\"\"\n\u001b[0;32m-> 1917\u001b[0;31m         \u001b[0mpath\u001b[0m \u001b[0;34m=\u001b[0m \u001b[0mline\u001b[0m\u001b[0;34m.\u001b[0m\u001b[0mget_path\u001b[0m\u001b[0;34m(\u001b[0m\u001b[0;34m)\u001b[0m\u001b[0;34m\u001b[0m\u001b[0;34m\u001b[0m\u001b[0m\n\u001b[0m\u001b[1;32m   1918\u001b[0m         \u001b[0;32mif\u001b[0m \u001b[0mpath\u001b[0m\u001b[0;34m.\u001b[0m\u001b[0mvertices\u001b[0m\u001b[0;34m.\u001b[0m\u001b[0msize\u001b[0m \u001b[0;34m==\u001b[0m \u001b[0;36m0\u001b[0m\u001b[0;34m:\u001b[0m\u001b[0;34m\u001b[0m\u001b[0;34m\u001b[0m\u001b[0m\n\u001b[1;32m   1919\u001b[0m             \u001b[0;32mreturn\u001b[0m\u001b[0;34m\u001b[0m\u001b[0;34m\u001b[0m\u001b[0m\n",
      "\u001b[0;32m~/anaconda3/envs/mlse/lib/python3.6/site-packages/matplotlib/lines.py\u001b[0m in \u001b[0;36mget_path\u001b[0;34m(self)\u001b[0m\n\u001b[1;32m    943\u001b[0m         \"\"\"\n\u001b[1;32m    944\u001b[0m         \u001b[0;32mif\u001b[0m \u001b[0mself\u001b[0m\u001b[0;34m.\u001b[0m\u001b[0m_invalidy\u001b[0m \u001b[0;32mor\u001b[0m \u001b[0mself\u001b[0m\u001b[0;34m.\u001b[0m\u001b[0m_invalidx\u001b[0m\u001b[0;34m:\u001b[0m\u001b[0;34m\u001b[0m\u001b[0;34m\u001b[0m\u001b[0m\n\u001b[0;32m--> 945\u001b[0;31m             \u001b[0mself\u001b[0m\u001b[0;34m.\u001b[0m\u001b[0mrecache\u001b[0m\u001b[0;34m(\u001b[0m\u001b[0;34m)\u001b[0m\u001b[0;34m\u001b[0m\u001b[0;34m\u001b[0m\u001b[0m\n\u001b[0m\u001b[1;32m    946\u001b[0m         \u001b[0;32mreturn\u001b[0m \u001b[0mself\u001b[0m\u001b[0;34m.\u001b[0m\u001b[0m_path\u001b[0m\u001b[0;34m\u001b[0m\u001b[0;34m\u001b[0m\u001b[0m\n\u001b[1;32m    947\u001b[0m \u001b[0;34m\u001b[0m\u001b[0m\n",
      "\u001b[0;32m~/anaconda3/envs/mlse/lib/python3.6/site-packages/matplotlib/lines.py\u001b[0m in \u001b[0;36mrecache\u001b[0;34m(self, always)\u001b[0m\n\u001b[1;32m    643\u001b[0m         \u001b[0;32mif\u001b[0m \u001b[0malways\u001b[0m \u001b[0;32mor\u001b[0m \u001b[0mself\u001b[0m\u001b[0;34m.\u001b[0m\u001b[0m_invalidy\u001b[0m\u001b[0;34m:\u001b[0m\u001b[0;34m\u001b[0m\u001b[0;34m\u001b[0m\u001b[0m\n\u001b[1;32m    644\u001b[0m             \u001b[0myconv\u001b[0m \u001b[0;34m=\u001b[0m \u001b[0mself\u001b[0m\u001b[0;34m.\u001b[0m\u001b[0mconvert_yunits\u001b[0m\u001b[0;34m(\u001b[0m\u001b[0mself\u001b[0m\u001b[0;34m.\u001b[0m\u001b[0m_yorig\u001b[0m\u001b[0;34m)\u001b[0m\u001b[0;34m\u001b[0m\u001b[0;34m\u001b[0m\u001b[0m\n\u001b[0;32m--> 645\u001b[0;31m             \u001b[0my\u001b[0m \u001b[0;34m=\u001b[0m \u001b[0m_to_unmasked_float_array\u001b[0m\u001b[0;34m(\u001b[0m\u001b[0myconv\u001b[0m\u001b[0;34m)\u001b[0m\u001b[0;34m.\u001b[0m\u001b[0mravel\u001b[0m\u001b[0;34m(\u001b[0m\u001b[0;34m)\u001b[0m\u001b[0;34m\u001b[0m\u001b[0;34m\u001b[0m\u001b[0m\n\u001b[0m\u001b[1;32m    646\u001b[0m         \u001b[0;32melse\u001b[0m\u001b[0;34m:\u001b[0m\u001b[0;34m\u001b[0m\u001b[0;34m\u001b[0m\u001b[0m\n\u001b[1;32m    647\u001b[0m             \u001b[0my\u001b[0m \u001b[0;34m=\u001b[0m \u001b[0mself\u001b[0m\u001b[0;34m.\u001b[0m\u001b[0m_y\u001b[0m\u001b[0;34m\u001b[0m\u001b[0;34m\u001b[0m\u001b[0m\n",
      "\u001b[0;32m~/anaconda3/envs/mlse/lib/python3.6/site-packages/matplotlib/cbook/__init__.py\u001b[0m in \u001b[0;36m_to_unmasked_float_array\u001b[0;34m(x)\u001b[0m\n\u001b[1;32m   1363\u001b[0m         \u001b[0;32mreturn\u001b[0m \u001b[0mnp\u001b[0m\u001b[0;34m.\u001b[0m\u001b[0mma\u001b[0m\u001b[0;34m.\u001b[0m\u001b[0masarray\u001b[0m\u001b[0;34m(\u001b[0m\u001b[0mx\u001b[0m\u001b[0;34m,\u001b[0m \u001b[0mfloat\u001b[0m\u001b[0;34m)\u001b[0m\u001b[0;34m.\u001b[0m\u001b[0mfilled\u001b[0m\u001b[0;34m(\u001b[0m\u001b[0mnp\u001b[0m\u001b[0;34m.\u001b[0m\u001b[0mnan\u001b[0m\u001b[0;34m)\u001b[0m\u001b[0;34m\u001b[0m\u001b[0;34m\u001b[0m\u001b[0m\n\u001b[1;32m   1364\u001b[0m     \u001b[0;32melse\u001b[0m\u001b[0;34m:\u001b[0m\u001b[0;34m\u001b[0m\u001b[0;34m\u001b[0m\u001b[0m\n\u001b[0;32m-> 1365\u001b[0;31m         \u001b[0;32mreturn\u001b[0m \u001b[0mnp\u001b[0m\u001b[0;34m.\u001b[0m\u001b[0masarray\u001b[0m\u001b[0;34m(\u001b[0m\u001b[0mx\u001b[0m\u001b[0;34m,\u001b[0m \u001b[0mfloat\u001b[0m\u001b[0;34m)\u001b[0m\u001b[0;34m\u001b[0m\u001b[0;34m\u001b[0m\u001b[0m\n\u001b[0m\u001b[1;32m   1366\u001b[0m \u001b[0;34m\u001b[0m\u001b[0m\n\u001b[1;32m   1367\u001b[0m \u001b[0;34m\u001b[0m\u001b[0m\n",
      "\u001b[0;32m~/anaconda3/envs/mlse/lib/python3.6/site-packages/numpy/core/numeric.py\u001b[0m in \u001b[0;36masarray\u001b[0;34m(a, dtype, order)\u001b[0m\n\u001b[1;32m    536\u001b[0m \u001b[0;34m\u001b[0m\u001b[0m\n\u001b[1;32m    537\u001b[0m     \"\"\"\n\u001b[0;32m--> 538\u001b[0;31m     \u001b[0;32mreturn\u001b[0m \u001b[0marray\u001b[0m\u001b[0;34m(\u001b[0m\u001b[0ma\u001b[0m\u001b[0;34m,\u001b[0m \u001b[0mdtype\u001b[0m\u001b[0;34m,\u001b[0m \u001b[0mcopy\u001b[0m\u001b[0;34m=\u001b[0m\u001b[0;32mFalse\u001b[0m\u001b[0;34m,\u001b[0m \u001b[0morder\u001b[0m\u001b[0;34m=\u001b[0m\u001b[0morder\u001b[0m\u001b[0;34m)\u001b[0m\u001b[0;34m\u001b[0m\u001b[0;34m\u001b[0m\u001b[0m\n\u001b[0m\u001b[1;32m    539\u001b[0m \u001b[0;34m\u001b[0m\u001b[0m\n\u001b[1;32m    540\u001b[0m \u001b[0;34m\u001b[0m\u001b[0m\n",
      "\u001b[0;31mValueError\u001b[0m: setting an array element with a sequence."
     ]
    },
    {
     "data": {
      "image/png": "[encoded data removed]",
      "text/plain": [
       "<Figure size 864x1440 with 1 Axes>"
      ]
     },
     "metadata": {
      "needs_background": "light"
     },
     "output_type": "display_data"
    }
   ],
   "source": [
    "import matplotlib.pyplot as plt\n",
    "\n",
    "%matplotlib inline\n",
    "\n",
    "plt.figure(figsize=(12,20))\n",
    "plt.subplot(311)\n",
    "plt.plot(res['time'], res['avg_response_time'], label='avg_response_time')\n",
    "plt.plot(res['time'], res['max_response_time'], label='max_response_time')\n",
    "plt.plot(res['time'], res['min_response_time'], label='min_response_time')\n",
    "plt.xlabel('Time (minutes)')\n",
    "plt.ylabel('Average Response Time (ms)')\n",
    "plt.legend()\n",
    "\n",
    "plt.subplot(312)\n",
    "plt.plot(res['time'], res['user_count'])\n",
    "plt.xlabel('Time (minutes)')\n",
    "plt.ylabel('Num of Users')\n",
    "\n",
    "plt.subplot(313)\n",
    "plt.plot(res['time'], res['fail_ratio'])\n",
    "plt.xlabel('Time (minutes)')\n",
    "plt.ylabel('Fail Ratio')"
   ]
  },
  {
   "cell_type": "code",
   "execution_count": null,
   "metadata": {
    "ExecuteTime": {
     "end_time": "2019-05-01T23:01:36.476944Z",
     "start_time": "2019-05-01T23:01:36.375308Z"
    }
   },
   "outputs": [],
   "source": []
  },
  {
   "cell_type": "code",
   "execution_count": null,
   "metadata": {},
   "outputs": [],
   "source": []
  }
 ],
 "metadata": {
  "kernelspec": {
   "display_name": "Python 3",
   "language": "python",
   "name": "python3"
  },
  "language_info": {
   "codemirror_mode": {
    "name": "ipython",
    "version": 3
   },
   "file_extension": ".py",
   "mimetype": "text/x-python",
   "name": "python",
   "nbconvert_exporter": "python",
   "pygments_lexer": "ipython3",
   "version": "3.6.8"
  },
  "toc": {
   "base_numbering": 1,
   "nav_menu": {},
   "number_sections": true,
   "sideBar": true,
   "skip_h1_title": false,
   "title_cell": "Table of Contents",
   "title_sidebar": "Contents",
   "toc_cell": false,
   "toc_position": {},
   "toc_section_display": true,
   "toc_window_display": false
  },
  "varInspector": {
   "cols": {
    "lenName": 16,
    "lenType": 16,
    "lenVar": 40
   },
   "kernels_config": {
    "python": {
     "delete_cmd_postfix": "",
     "delete_cmd_prefix": "del ",
     "library": "var_list.py",
     "varRefreshCmd": "print(var_dic_list())"
    },
    "r": {
     "delete_cmd_postfix": ") ",
     "delete_cmd_prefix": "rm(",
     "library": "var_list.r",
     "varRefreshCmd": "cat(var_dic_list()) "
    }
   },
   "types_to_exclude": [
    "module",
    "function",
    "builtin_function_or_method",
    "instance",
    "_Feature"
   ],
   "window_display": false
  }
 },
 "nbformat": 4,
 "nbformat_minor": 2
}
