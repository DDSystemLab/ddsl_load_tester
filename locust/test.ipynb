{
 "cells": [
  {
   "cell_type": "code",
   "execution_count": 1,
   "metadata": {},
   "outputs": [],
   "source": [
    "%load_ext autoreload\n",
    "\n",
    "# Auto reloading causes the kernel to reload the libraries we have\n",
    "%autoreload 2\n",
    "\n",
    "import requests\n"
   ]
  },
  {
   "cell_type": "code",
   "execution_count": 88,
   "metadata": {},
   "outputs": [
    {
     "data": {
      "text/plain": [
       "{'current_response_time_percentile_50': 26.285171508789062,\n",
       " 'current_response_time_percentile_95': 110,\n",
       " 'errors': [],\n",
       " 'fail_ratio': 0.0,\n",
       " 'state': 'running',\n",
       " 'stats': [{'avg_content_length': 4.0,\n",
       "   'avg_response_time': 50.089660294016106,\n",
       "   'current_rps': 7.5,\n",
       "   'max_response_time': 405.712366104126,\n",
       "   'median_response_time': 27.404308319091797,\n",
       "   'method': 'GET',\n",
       "   'min_response_time': 23.899078369140625,\n",
       "   'name': '/function/pyfibo/',\n",
       "   'num_failures': 0,\n",
       "   'num_requests': 838},\n",
       "  {'avg_content_length': 4.0,\n",
       "   'avg_response_time': 50.089660294016106,\n",
       "   'current_rps': 7.5,\n",
       "   'max_response_time': 405.712366104126,\n",
       "   'median_response_time': 27.404308319091797,\n",
       "   'method': None,\n",
       "   'min_response_time': 23.899078369140625,\n",
       "   'name': 'Total',\n",
       "   'num_failures': 0,\n",
       "   'num_requests': 838}],\n",
       " 'total_rps': 7.5,\n",
       " 'user_count': 50}"
      ]
     },
     "execution_count": 88,
     "metadata": {},
     "output_type": "execute_result"
    }
   ],
   "source": [
    "# Get the current status\n",
    "resp = requests.get('http://localhost:8089/stats/requests')\n",
    "resp.json()"
   ]
  },
  {
   "cell_type": "code",
   "execution_count": 102,
   "metadata": {},
   "outputs": [
    {
     "data": {
      "text/plain": [
       "{'message': 'Swarming started', 'success': True}"
      ]
     },
     "execution_count": 102,
     "metadata": {},
     "output_type": "execute_result"
    }
   ],
   "source": [
    "# set the target state\n",
    "resp = requests.post('http://localhost:8089/swarm', data={'locust_count':50, 'hatch_rate': 10})\n",
    "resp.json()"
   ]
  },
  {
   "cell_type": "code",
   "execution_count": 101,
   "metadata": {},
   "outputs": [
    {
     "data": {
      "text/plain": [
       "{'message': 'Test stopped', 'success': True}"
      ]
     },
     "execution_count": 101,
     "metadata": {},
     "output_type": "execute_result"
    }
   ],
   "source": [
    "# Stop the test\n",
    "resp = requests.get('http://localhost:8089/stop')\n",
    "resp.json()"
   ]
  },
  {
   "cell_type": "code",
   "execution_count": 104,
   "metadata": {},
   "outputs": [
    {
     "data": {
      "text/plain": [
       "'ok'"
      ]
     },
     "execution_count": 104,
     "metadata": {},
     "output_type": "execute_result"
    }
   ],
   "source": [
    "# reset stats\n",
    "resp = requests.get('http://localhost:8089/stats/reset')\n",
    "resp.text"
   ]
  },
  {
   "cell_type": "code",
   "execution_count": 105,
   "metadata": {},
   "outputs": [],
   "source": [
    "# Low-level stats\n",
    "\n",
    "def get_current_stats(base='http://localhost:8089/'):\n",
    "    resp = requests.get(base + 'stats/requests')\n",
    "    return resp.json()\n",
    "\n",
    "def set_target_user_count(locust_count, hatch_rate=50, base='http://localhost:8089/'):\n",
    "    resp = requests.post(base+'swarm', data={'locust_count':locust_count, 'hatch_rate': hatch_rate})\n",
    "    try:\n",
    "        resp_json = resp.json()\n",
    "        return resp_json['success']\n",
    "    except:\n",
    "        return False\n",
    "    \n",
    "def stop_test(base='http://localhost:8089/'):\n",
    "    resp = requests.get(base+'stop')\n",
    "    try:\n",
    "        resp_json = resp.json()\n",
    "        return resp_json['success']\n",
    "    except:\n",
    "        return False\n",
    "    \n",
    "def reset_stats(base='http://localhost:8089/'):\n",
    "    resp = requests.get(base+'stats/reset')\n",
    "    if resp.text == 'ok':\n",
    "        return True\n",
    "    else:\n",
    "        return False"
   ]
  },
  {
   "cell_type": "code",
   "execution_count": 106,
   "metadata": {},
   "outputs": [
    {
     "data": {
      "text/plain": [
       "{'current_response_time_percentile_50': None,\n",
       " 'current_response_time_percentile_95': None,\n",
       " 'errors': [],\n",
       " 'fail_ratio': 0.0,\n",
       " 'state': 'stopped',\n",
       " 'stats': [{'avg_content_length': 4.0,\n",
       "   'avg_response_time': 45.997609416578314,\n",
       "   'current_rps': 7.4,\n",
       "   'max_response_time': 140.98405838012695,\n",
       "   'median_response_time': 27.135848999023438,\n",
       "   'method': 'GET',\n",
       "   'min_response_time': 23.676395416259766,\n",
       "   'name': '/function/pyfibo/',\n",
       "   'num_failures': 0,\n",
       "   'num_requests': 607},\n",
       "  {'avg_content_length': 4.0,\n",
       "   'avg_response_time': 45.997609416578314,\n",
       "   'current_rps': 7.4,\n",
       "   'max_response_time': 140.98405838012695,\n",
       "   'median_response_time': 27.135848999023438,\n",
       "   'method': None,\n",
       "   'min_response_time': 23.676395416259766,\n",
       "   'name': 'Total',\n",
       "   'num_failures': 0,\n",
       "   'num_requests': 607}],\n",
       " 'total_rps': 7.4,\n",
       " 'user_count': 0}"
      ]
     },
     "execution_count": 106,
     "metadata": {},
     "output_type": "execute_result"
    }
   ],
   "source": [
    "get_current_stats()"
   ]
  },
  {
   "cell_type": "code",
   "execution_count": 108,
   "metadata": {},
   "outputs": [
    {
     "data": {
      "text/plain": [
       "True"
      ]
     },
     "execution_count": 108,
     "metadata": {},
     "output_type": "execute_result"
    }
   ],
   "source": [
    "set_target_user_count(50)"
   ]
  },
  {
   "cell_type": "code",
   "execution_count": 111,
   "metadata": {},
   "outputs": [
    {
     "data": {
      "text/plain": [
       "True"
      ]
     },
     "execution_count": 111,
     "metadata": {},
     "output_type": "execute_result"
    }
   ],
   "source": [
    "reset_stats()"
   ]
  },
  {
   "cell_type": "code",
   "execution_count": 112,
   "metadata": {},
   "outputs": [
    {
     "data": {
      "text/plain": [
       "True"
      ]
     },
     "execution_count": 112,
     "metadata": {},
     "output_type": "execute_result"
    }
   ],
   "source": [
    "stop_test()"
   ]
  },
  {
   "cell_type": "code",
   "execution_count": 113,
   "metadata": {},
   "outputs": [
    {
     "data": {
      "text/plain": [
       "{'current_response_time_percentile_50': 26.113033294677734,\n",
       " 'current_response_time_percentile_95': 120,\n",
       " 'errors': [],\n",
       " 'fail_ratio': 0.0,\n",
       " 'state': 'stopped',\n",
       " 'stats': [{'avg_content_length': 4.0,\n",
       "   'avg_response_time': 38.28223461800433,\n",
       "   'current_rps': 7.2,\n",
       "   'max_response_time': 124.89724159240723,\n",
       "   'median_response_time': 25.9859561920166,\n",
       "   'method': 'GET',\n",
       "   'min_response_time': 24.09195899963379,\n",
       "   'name': '/function/pyfibo/',\n",
       "   'num_failures': 0,\n",
       "   'num_requests': 94},\n",
       "  {'avg_content_length': 4.0,\n",
       "   'avg_response_time': 38.28223461800433,\n",
       "   'current_rps': 7.2,\n",
       "   'max_response_time': 124.89724159240723,\n",
       "   'median_response_time': 25.9859561920166,\n",
       "   'method': None,\n",
       "   'min_response_time': 24.09195899963379,\n",
       "   'name': 'Total',\n",
       "   'num_failures': 0,\n",
       "   'num_requests': 94}],\n",
       " 'total_rps': 7.2,\n",
       " 'user_count': 0}"
      ]
     },
     "execution_count": 113,
     "metadata": {},
     "output_type": "execute_result"
    }
   ],
   "source": [
    "get_current_stats()"
   ]
  }
 ],
 "metadata": {
  "kernelspec": {
   "display_name": "Python 3",
   "language": "python",
   "name": "python3"
  },
  "language_info": {
   "codemirror_mode": {
    "name": "ipython",
    "version": 3
   },
   "file_extension": ".py",
   "mimetype": "text/x-python",
   "name": "python",
   "nbconvert_exporter": "python",
   "pygments_lexer": "ipython3",
   "version": "3.6.8"
  }
 },
 "nbformat": 4,
 "nbformat_minor": 2
}
