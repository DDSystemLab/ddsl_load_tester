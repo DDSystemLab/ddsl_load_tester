{
 "cells": [
  {
   "cell_type": "code",
   "execution_count": 1,
   "metadata": {
    "ExecuteTime": {
     "end_time": "2019-05-01T22:21:59.637236Z",
     "start_time": "2019-05-01T22:21:59.525418Z"
    }
   },
   "outputs": [],
   "source": [
    "%load_ext autoreload\n",
    "\n",
    "# Auto reloading causes the kernel to reload the libraries we have\n",
    "%autoreload 2\n",
    "\n",
    "import requests\n",
    "\n",
    "import ddsl_load_tester as load_tester"
   ]
  },
  {
   "cell_type": "markdown",
   "metadata": {},
   "source": [
    "# Testing Functionality"
   ]
  },
  {
   "cell_type": "code",
   "execution_count": 22,
   "metadata": {
    "ExecuteTime": {
     "end_time": "2019-05-01T22:37:36.565505Z",
     "start_time": "2019-05-01T22:37:36.525330Z"
    }
   },
   "outputs": [
    {
     "data": {
      "text/plain": [
       "{'current_response_time_percentile_50': None,\n",
       " 'current_response_time_percentile_95': None,\n",
       " 'errors': [],\n",
       " 'fail_ratio': 0.0,\n",
       " 'state': 'ready',\n",
       " 'stats': [{'avg_content_length': 0,\n",
       "   'avg_response_time': 0,\n",
       "   'current_rps': 0.0,\n",
       "   'max_response_time': 0,\n",
       "   'median_response_time': 0,\n",
       "   'method': None,\n",
       "   'min_response_time': 0,\n",
       "   'name': 'Total',\n",
       "   'num_failures': 0,\n",
       "   'num_requests': 0}],\n",
       " 'total_rps': 0.0,\n",
       " 'user_count': 0}"
      ]
     },
     "execution_count": 22,
     "metadata": {},
     "output_type": "execute_result"
    }
   ],
   "source": [
    "load_tester.get_current_stats()"
   ]
  },
  {
   "cell_type": "code",
   "execution_count": 5,
   "metadata": {
    "ExecuteTime": {
     "end_time": "2019-05-01T20:41:09.529155Z",
     "start_time": "2019-05-01T20:41:09.488141Z"
    }
   },
   "outputs": [
    {
     "data": {
      "text/plain": [
       "True"
      ]
     },
     "execution_count": 5,
     "metadata": {},
     "output_type": "execute_result"
    }
   ],
   "source": [
    "load_tester.set_target_user_count(50)"
   ]
  },
  {
   "cell_type": "code",
   "execution_count": 6,
   "metadata": {
    "ExecuteTime": {
     "end_time": "2019-05-01T20:41:09.826266Z",
     "start_time": "2019-05-01T20:41:09.797201Z"
    }
   },
   "outputs": [
    {
     "data": {
      "text/plain": [
       "True"
      ]
     },
     "execution_count": 6,
     "metadata": {},
     "output_type": "execute_result"
    }
   ],
   "source": [
    "load_tester.reset_stats()"
   ]
  },
  {
   "cell_type": "code",
   "execution_count": 7,
   "metadata": {
    "ExecuteTime": {
     "end_time": "2019-05-01T20:41:10.265462Z",
     "start_time": "2019-05-01T20:41:10.219323Z"
    }
   },
   "outputs": [
    {
     "data": {
      "text/plain": [
       "True"
      ]
     },
     "execution_count": 7,
     "metadata": {},
     "output_type": "execute_result"
    }
   ],
   "source": [
    "load_tester.stop_test()"
   ]
  },
  {
   "cell_type": "code",
   "execution_count": 28,
   "metadata": {
    "ExecuteTime": {
     "end_time": "2019-05-01T22:40:14.307899Z",
     "start_time": "2019-05-01T22:40:14.273167Z"
    }
   },
   "outputs": [
    {
     "data": {
      "text/plain": [
       "{'current_response_time_percentile_50': None,\n",
       " 'current_response_time_percentile_95': None,\n",
       " 'errors': [],\n",
       " 'fail_ratio': 0.0,\n",
       " 'state': 'ready',\n",
       " 'stats': [{'avg_content_length': 0,\n",
       "   'avg_response_time': 0,\n",
       "   'current_rps': 0.0,\n",
       "   'max_response_time': 0,\n",
       "   'median_response_time': 0,\n",
       "   'method': None,\n",
       "   'min_response_time': 0,\n",
       "   'name': 'Total',\n",
       "   'num_failures': 0,\n",
       "   'num_requests': 0}],\n",
       " 'total_rps': 0.0,\n",
       " 'user_count': 0}"
      ]
     },
     "execution_count": 28,
     "metadata": {},
     "output_type": "execute_result"
    }
   ],
   "source": [
    "load_tester.get_current_stats()"
   ]
  },
  {
   "cell_type": "markdown",
   "metadata": {},
   "source": [
    "# Testing Object"
   ]
  },
  {
   "cell_type": "code",
   "execution_count": 8,
   "metadata": {
    "ExecuteTime": {
     "end_time": "2019-05-01T22:31:31.164135Z",
     "start_time": "2019-05-01T22:31:31.114576Z"
    }
   },
   "outputs": [
    {
     "data": {
      "text/plain": [
       "True"
      ]
     },
     "execution_count": 8,
     "metadata": {},
     "output_type": "execute_result"
    }
   ],
   "source": [
    "lt = load_tester.DdslLoadTester(hatch_rate=100, temp_stat_max_len=5, base='http://localhost:8089/')\n",
    "lt.change_count(50)"
   ]
  },
  {
   "cell_type": "code",
   "execution_count": 9,
   "metadata": {
    "ExecuteTime": {
     "end_time": "2019-05-01T22:31:33.158794Z",
     "start_time": "2019-05-01T22:31:33.116067Z"
    }
   },
   "outputs": [],
   "source": [
    "lt.start_capturing()"
   ]
  },
  {
   "cell_type": "code",
   "execution_count": 15,
   "metadata": {
    "ExecuteTime": {
     "end_time": "2019-05-01T20:42:39.528647Z",
     "start_time": "2019-05-01T20:42:39.491080Z"
    },
    "scrolled": true
   },
   "outputs": [
    {
     "data": {
      "text/plain": [
       "[{'current_response_time_percentile_50': 57.43908882141113,\n",
       "  'current_response_time_percentile_95': 98.80471229553223,\n",
       "  'errors': [],\n",
       "  'fail_ratio': 0.0,\n",
       "  'state': 'running',\n",
       "  'stats': [{'avg_content_length': 4.0,\n",
       "    'avg_response_time': 45.568084716796875,\n",
       "    'current_rps': 0.0,\n",
       "    'max_response_time': 98.80471229553223,\n",
       "    'median_response_time': 28.05781364440918,\n",
       "    'method': 'GET',\n",
       "    'min_response_time': 24.00517463684082,\n",
       "    'name': '/function/pyfibo/',\n",
       "    'num_failures': 0,\n",
       "    'num_requests': 15},\n",
       "   {'avg_content_length': 4.0,\n",
       "    'avg_response_time': 45.568084716796875,\n",
       "    'current_rps': 0.0,\n",
       "    'max_response_time': 98.80471229553223,\n",
       "    'median_response_time': 28.05781364440918,\n",
       "    'method': None,\n",
       "    'min_response_time': 24.00517463684082,\n",
       "    'name': 'Total',\n",
       "    'num_failures': 0,\n",
       "    'num_requests': 15}],\n",
       "  'total_rps': 0.0,\n",
       "  'user_count': 50,\n",
       "  'time': 1556743350.3435028},\n",
       " {'current_response_time_percentile_50': 36.06247901916504,\n",
       "  'current_response_time_percentile_95': 130,\n",
       "  'errors': [],\n",
       "  'fail_ratio': 0.0,\n",
       "  'state': 'running',\n",
       "  'stats': [{'avg_content_length': 4.0,\n",
       "    'avg_response_time': 55.91193267277309,\n",
       "    'current_rps': 0.0,\n",
       "    'max_response_time': 126.40786170959473,\n",
       "    'median_response_time': 32.33814239501953,\n",
       "    'method': 'GET',\n",
       "    'min_response_time': 24.779558181762695,\n",
       "    'name': '/function/pyfibo/',\n",
       "    'num_failures': 0,\n",
       "    'num_requests': 14},\n",
       "   {'avg_content_length': 4.0,\n",
       "    'avg_response_time': 55.91193267277309,\n",
       "    'current_rps': 0.0,\n",
       "    'max_response_time': 126.40786170959473,\n",
       "    'median_response_time': 32.33814239501953,\n",
       "    'method': None,\n",
       "    'min_response_time': 24.779558181762695,\n",
       "    'name': 'Total',\n",
       "    'num_failures': 0,\n",
       "    'num_requests': 14}],\n",
       "  'total_rps': 0.0,\n",
       "  'user_count': 50,\n",
       "  'time': 1556743352.3476195},\n",
       " {'current_response_time_percentile_50': 26.9467830657959,\n",
       "  'current_response_time_percentile_95': 94.6049690246582,\n",
       "  'errors': [],\n",
       "  'fail_ratio': 0.0,\n",
       "  'state': 'running',\n",
       "  'stats': [{'avg_content_length': 4.0,\n",
       "    'avg_response_time': 49.9715656042099,\n",
       "    'current_rps': 0.0,\n",
       "    'max_response_time': 115.04125595092773,\n",
       "    'median_response_time': 26.569843292236328,\n",
       "    'method': 'GET',\n",
       "    'min_response_time': 24.452686309814453,\n",
       "    'name': '/function/pyfibo/',\n",
       "    'num_failures': 0,\n",
       "    'num_requests': 16},\n",
       "   {'avg_content_length': 4.0,\n",
       "    'avg_response_time': 49.9715656042099,\n",
       "    'current_rps': 0.0,\n",
       "    'max_response_time': 115.04125595092773,\n",
       "    'median_response_time': 26.569843292236328,\n",
       "    'method': None,\n",
       "    'min_response_time': 24.452686309814453,\n",
       "    'name': 'Total',\n",
       "    'num_failures': 0,\n",
       "    'num_requests': 16}],\n",
       "  'total_rps': 0.0,\n",
       "  'user_count': 50,\n",
       "  'time': 1556743354.3609185},\n",
       " {'current_response_time_percentile_50': 26.9467830657959,\n",
       "  'current_response_time_percentile_95': 94.6049690246582,\n",
       "  'errors': [],\n",
       "  'fail_ratio': 0.0,\n",
       "  'state': 'running',\n",
       "  'stats': [{'avg_content_length': 4.0,\n",
       "    'avg_response_time': 49.9715656042099,\n",
       "    'current_rps': 0.0,\n",
       "    'max_response_time': 115.04125595092773,\n",
       "    'median_response_time': 26.569843292236328,\n",
       "    'method': 'GET',\n",
       "    'min_response_time': 24.452686309814453,\n",
       "    'name': '/function/pyfibo/',\n",
       "    'num_failures': 0,\n",
       "    'num_requests': 16},\n",
       "   {'avg_content_length': 4.0,\n",
       "    'avg_response_time': 49.9715656042099,\n",
       "    'current_rps': 0.0,\n",
       "    'max_response_time': 115.04125595092773,\n",
       "    'median_response_time': 26.569843292236328,\n",
       "    'method': None,\n",
       "    'min_response_time': 24.452686309814453,\n",
       "    'name': 'Total',\n",
       "    'num_failures': 0,\n",
       "    'num_requests': 16}],\n",
       "  'total_rps': 0.0,\n",
       "  'user_count': 50,\n",
       "  'time': 1556743356.3455503},\n",
       " {'current_response_time_percentile_50': 24.608612060546875,\n",
       "  'current_response_time_percentile_95': 29.848098754882812,\n",
       "  'errors': [],\n",
       "  'fail_ratio': 0.0,\n",
       "  'state': 'running',\n",
       "  'stats': [{'avg_content_length': 4.0,\n",
       "    'avg_response_time': 34.6970796585083,\n",
       "    'current_rps': 0.0,\n",
       "    'max_response_time': 89.65516090393066,\n",
       "    'median_response_time': 24.608612060546875,\n",
       "    'method': 'GET',\n",
       "    'min_response_time': 24.16682243347168,\n",
       "    'name': '/function/pyfibo/',\n",
       "    'num_failures': 0,\n",
       "    'num_requests': 10},\n",
       "   {'avg_content_length': 4.0,\n",
       "    'avg_response_time': 34.6970796585083,\n",
       "    'current_rps': 0.0,\n",
       "    'max_response_time': 89.65516090393066,\n",
       "    'median_response_time': 24.608612060546875,\n",
       "    'method': None,\n",
       "    'min_response_time': 24.16682243347168,\n",
       "    'name': 'Total',\n",
       "    'num_failures': 0,\n",
       "    'num_requests': 10}],\n",
       "  'total_rps': 0.0,\n",
       "  'user_count': 50,\n",
       "  'time': 1556743358.3501804}]"
      ]
     },
     "execution_count": 15,
     "metadata": {},
     "output_type": "execute_result"
    }
   ],
   "source": [
    "temp_stats = lt.get_temp_stats()\n",
    "temp_stats"
   ]
  },
  {
   "cell_type": "code",
   "execution_count": 16,
   "metadata": {
    "ExecuteTime": {
     "end_time": "2019-05-01T20:42:39.839921Z",
     "start_time": "2019-05-01T20:42:39.812891Z"
    }
   },
   "outputs": [
    {
     "data": {
      "text/plain": [
       "[57.43908882141113,\n",
       " 36.06247901916504,\n",
       " 26.9467830657959,\n",
       " 26.9467830657959,\n",
       " 24.608612060546875]"
      ]
     },
     "execution_count": 16,
     "metadata": {},
     "output_type": "execute_result"
    }
   ],
   "source": [
    "load_tester.get_stats_arr(temp_stats, 'current_response_time_percentile_50')"
   ]
  },
  {
   "cell_type": "code",
   "execution_count": 17,
   "metadata": {
    "ExecuteTime": {
     "end_time": "2019-05-01T20:42:40.940444Z",
     "start_time": "2019-05-01T20:42:40.912608Z"
    }
   },
   "outputs": [
    {
     "data": {
      "text/plain": [
       "[45.568084716796875,\n",
       " 55.91193267277309,\n",
       " 49.9715656042099,\n",
       " 49.9715656042099,\n",
       " 34.6970796585083]"
      ]
     },
     "execution_count": 17,
     "metadata": {},
     "output_type": "execute_result"
    }
   ],
   "source": [
    "load_tester.get_stats_arr_stats(temp_stats, 'avg_response_time')"
   ]
  },
  {
   "cell_type": "code",
   "execution_count": 10,
   "metadata": {
    "ExecuteTime": {
     "end_time": "2019-05-01T22:31:37.161414Z",
     "start_time": "2019-05-01T22:31:37.114750Z"
    }
   },
   "outputs": [
    {
     "data": {
      "text/plain": [
       "True"
      ]
     },
     "execution_count": 10,
     "metadata": {},
     "output_type": "execute_result"
    }
   ],
   "source": [
    "lt.stop_test()"
   ]
  },
  {
   "cell_type": "markdown",
   "metadata": {},
   "source": [
    "# Testing Sequence"
   ]
  },
  {
   "cell_type": "code",
   "execution_count": 39,
   "metadata": {
    "ExecuteTime": {
     "end_time": "2019-05-01T22:57:35.569123Z",
     "start_time": "2019-05-01T22:48:35.083640Z"
    }
   },
   "outputs": [
    {
     "data": {
      "application/vnd.jupyter.widget-view+json": {
       "model_id": "9aca5c57500c4932ad6bbca0c97f6857",
       "version_major": 2,
       "version_minor": 0
      },
      "text/plain": [
       "HBox(children=(IntProgress(value=0, max=9), HTML(value='')))"
      ]
     },
     "metadata": {},
     "output_type": "display_data"
    }
   ],
   "source": [
    "import time\n",
    "\n",
    "loop_timer = load_tester.TimerClass()\n",
    "total_timer = load_tester.TimerClass()\n",
    "\n",
    "user_sequence = [50,100,500,1000,1000,1000,500,100,50]\n",
    "lt = load_tester.DdslLoadTester(hatch_rate=100, temp_stat_max_len=5, base='http://localhost:8089/')\n",
    "lt.change_count(user_sequence[0])\n",
    "lt.start_capturing()\n",
    "\n",
    "loop_timer.tic()\n",
    "total_timer.tic()\n",
    "\n",
    "from tqdm.autonotebook import tqdm\n",
    "tqdm.pandas()\n",
    "\n",
    "results = []\n",
    "for i in tqdm(range(len(user_sequence))):\n",
    "    user_count = user_sequence[i]\n",
    "    lt.change_count(user_count)\n",
    "    \n",
    "    time.sleep(60 - loop_timer.toc())\n",
    "    \n",
    "    loop_timer.tic()\n",
    "    \n",
    "    temp_stats = lt.get_temp_stats()\n",
    "    result = {}\n",
    "    result['avg_response_time'] = np.mean(np.array(load_tester.get_stats_arr_stats(temp_stats, 'avg_response_time')))\n",
    "    result['max_response_time'] = np.max(np.array(load_tester.get_stats_arr_stats(temp_stats, 'max_response_time')))\n",
    "    result['min_response_time'] = np.min(np.array(load_tester.get_stats_arr_stats(temp_stats, 'min_response_time')))\n",
    "    result['fail_ratio'] = np.mean(np.array(load_tester.get_stats_arr(temp_stats, 'fail_ratio')))\n",
    "    result['user_count'] = user_count\n",
    "    result['time'] = total_timer.toc() / 60\n",
    "    results.append(result)\n",
    "    \n",
    "lt.stop_test()"
   ]
  },
  {
   "cell_type": "code",
   "execution_count": 40,
   "metadata": {
    "ExecuteTime": {
     "end_time": "2019-05-01T22:57:36.358276Z",
     "start_time": "2019-05-01T22:57:36.328341Z"
    }
   },
   "outputs": [],
   "source": [
    "import pandas as pd\n",
    "\n",
    "res = pd.DataFrame(data=results)"
   ]
  },
  {
   "cell_type": "code",
   "execution_count": 41,
   "metadata": {
    "ExecuteTime": {
     "end_time": "2019-05-01T22:57:38.569285Z",
     "start_time": "2019-05-01T22:57:37.091427Z"
    }
   },
   "outputs": [
    {
     "data": {
      "text/plain": [
       "Text(0, 0.5, 'Fail Ratio')"
      ]
     },
     "execution_count": 41,
     "metadata": {},
     "output_type": "execute_result"
    },
    {
     "data": {
      "image/png": "[encoded data removed]",
      "text/plain": [
       "<Figure size 864x1440 with 3 Axes>"
      ]
     },
     "metadata": {
      "needs_background": "light"
     },
     "output_type": "display_data"
    }
   ],
   "source": [
    "import matplotlib.pyplot as plt\n",
    "\n",
    "%matplotlib inline\n",
    "\n",
    "plt.figure(figsize=(12,20))\n",
    "plt.subplot(311)\n",
    "plt.plot(res['time'], res['avg_response_time'], label='avg_response_time')\n",
    "plt.plot(res['time'], res['max_response_time'], label='max_response_time')\n",
    "plt.plot(res['time'], res['min_response_time'], label='min_response_time')\n",
    "plt.xlabel('Time (minutes)')\n",
    "plt.ylabel('Average Response Time (ms)')\n",
    "plt.legend()\n",
    "\n",
    "plt.subplot(312)\n",
    "plt.plot(res['time'], res['user_count'])\n",
    "plt.xlabel('Time (minutes)')\n",
    "plt.ylabel('Num of Users')\n",
    "\n",
    "plt.subplot(313)\n",
    "plt.plot(res['time'], res['fail_ratio'])\n",
    "plt.xlabel('Time (minutes)')\n",
    "plt.ylabel('Fail Ratio')"
   ]
  },
  {
   "cell_type": "code",
   "execution_count": null,
   "metadata": {
    "ExecuteTime": {
     "end_time": "2019-05-01T23:01:36.476944Z",
     "start_time": "2019-05-01T23:01:36.375308Z"
    }
   },
   "outputs": [],
   "source": []
  },
  {
   "cell_type": "code",
   "execution_count": null,
   "metadata": {},
   "outputs": [],
   "source": []
  }
 ],
 "metadata": {
  "kernelspec": {
   "display_name": "Python 3",
   "language": "python",
   "name": "python3"
  },
  "language_info": {
   "codemirror_mode": {
    "name": "ipython",
    "version": 3
   },
   "file_extension": ".py",
   "mimetype": "text/x-python",
   "name": "python",
   "nbconvert_exporter": "python",
   "pygments_lexer": "ipython3",
   "version": "3.6.8"
  },
  "toc": {
   "base_numbering": 1,
   "nav_menu": {},
   "number_sections": true,
   "sideBar": true,
   "skip_h1_title": false,
   "title_cell": "Table of Contents",
   "title_sidebar": "Contents",
   "toc_cell": false,
   "toc_position": {},
   "toc_section_display": true,
   "toc_window_display": false
  },
  "varInspector": {
   "cols": {
    "lenName": 16,
    "lenType": 16,
    "lenVar": 40
   },
   "kernels_config": {
    "python": {
     "delete_cmd_postfix": "",
     "delete_cmd_prefix": "del ",
     "library": "var_list.py",
     "varRefreshCmd": "print(var_dic_list())"
    },
    "r": {
     "delete_cmd_postfix": ") ",
     "delete_cmd_prefix": "rm(",
     "library": "var_list.r",
     "varRefreshCmd": "cat(var_dic_list()) "
    }
   },
   "types_to_exclude": [
    "module",
    "function",
    "builtin_function_or_method",
    "instance",
    "_Feature"
   ],
   "window_display": false
  }
 },
 "nbformat": 4,
 "nbformat_minor": 2
}
