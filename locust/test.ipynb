{
 "cells": [
  {
   "cell_type": "code",
   "execution_count": 2,
   "metadata": {
    "ExecuteTime": {
     "end_time": "2019-04-30T21:17:39.460204Z",
     "start_time": "2019-04-30T21:17:39.348194Z"
    }
   },
   "outputs": [],
   "source": [
    "%load_ext autoreload\n",
    "\n",
    "# Auto reloading causes the kernel to reload the libraries we have\n",
    "%autoreload 2\n",
    "\n",
    "import requests\n"
   ]
  },
  {
   "cell_type": "markdown",
   "metadata": {},
   "source": [
    "# Functions"
   ]
  },
  {
   "cell_type": "code",
   "execution_count": 3,
   "metadata": {
    "ExecuteTime": {
     "end_time": "2019-04-30T21:17:40.408746Z",
     "start_time": "2019-04-30T21:17:40.375774Z"
    }
   },
   "outputs": [],
   "source": [
    "# Low-level API calls\n",
    "\n",
    "def get_current_stats(base='http://localhost:8089/'):\n",
    "    # Get the current status\n",
    "    resp = requests.get(base + 'stats/requests')\n",
    "    return resp.json()\n",
    "\n",
    "def set_target_user_count(locust_count, hatch_rate=50, base='http://localhost:8089/'):\n",
    "    # set the target state\n",
    "    resp = requests.post(base+'swarm', data={'locust_count':locust_count, 'hatch_rate': hatch_rate})\n",
    "    try:\n",
    "        resp_json = resp.json()\n",
    "        return resp_json['success']\n",
    "    except:\n",
    "        return False\n",
    "    \n",
    "def stop_test(base='http://localhost:8089/'):\n",
    "    # Stop the test\n",
    "    resp = requests.get(base+'stop')\n",
    "    try:\n",
    "        resp_json = resp.json()\n",
    "        return resp_json['success']\n",
    "    except:\n",
    "        return False\n",
    "    \n",
    "def reset_stats(base='http://localhost:8089/'):\n",
    "    # reset stats\n",
    "    resp = requests.get(base+'stats/reset')\n",
    "    if resp.text == 'ok':\n",
    "        return True\n",
    "    else:\n",
    "        return False"
   ]
  },
  {
   "cell_type": "code",
   "execution_count": 41,
   "metadata": {
    "ExecuteTime": {
     "end_time": "2019-04-30T21:24:04.661162Z",
     "start_time": "2019-04-30T21:24:04.610781Z"
    }
   },
   "outputs": [],
   "source": [
    "import threading\n",
    "import numpy as np\n",
    "\n",
    "import time\n",
    "class TimerClass:\n",
    "    def __init__(self):\n",
    "        self.start_time = time.time()\n",
    "\n",
    "    def tic(self):\n",
    "        self.start_time = time.time()\n",
    "\n",
    "    def toc(self):\n",
    "        elapsed = time.time() - self.start_time\n",
    "        return elapsed\n",
    "\n",
    "    def toc_print(self):\n",
    "        elapsed = time.time() - self.start_time\n",
    "        print('{:4.02f}'.format(elapsed))\n",
    "        return elapsed\n",
    "\n",
    "class WorkerThread(threading.Thread):\n",
    "    def __init__(self, parent, sleep_time=2):\n",
    "        super(WorkerThread, self).__init__()\n",
    "        # if daemon is true this thread will die when the main thread dies\n",
    "        self.daemon = True\n",
    "        self.stop_signal = False\n",
    "        self.sleep_time = sleep_time\n",
    "        self.loop_timer = TimerClass()\n",
    "        self.parent = parent\n",
    "        \n",
    "    def run(self):\n",
    "        while not self.stop_signal:\n",
    "            self.loop_timer.tic()\n",
    "            try:\n",
    "                stats = self.parent.get_stats()\n",
    "                self.parent.reset_remote_stats()\n",
    "                stats['time'] = time.time()\n",
    "                self.parent.temp_stats.append(stats)\n",
    "                if len(self.parent.temp_stats) > self.parent.temp_stat_max_len:\n",
    "                    del self.parent.temp_stats[0]\n",
    "            except Exception as e:\n",
    "                print('Got Exception: ' + str(e))\n",
    "            elapsed = self.loop_timer.toc()\n",
    "            time.sleep(self.sleep_time - elapsed)\n",
    "\n",
    "class DdslLoadTester:\n",
    "    def __init__(self, base='http://localhost:8089/',hatch_rate=50,temp_stat_max_len=5):\n",
    "        super(DdslLoadTester, self).__init__()\n",
    "        self.base = base\n",
    "        self.hatch_rate = hatch_rate\n",
    "        self.worker_thread = None\n",
    "        self.temp_stats = []\n",
    "        self.temp_stat_max_len = temp_stat_max_len\n",
    "        \n",
    "    def get_state(self):\n",
    "        resp = get_current_stats(self.base)\n",
    "        return resp['state']\n",
    "    \n",
    "    def get_stats(self):\n",
    "        return get_current_stats(self.base)\n",
    "    \n",
    "    def reset_remote_stats(self):\n",
    "        return reset_stats(self.base)\n",
    "        \n",
    "    def reset_temp_stats(self):\n",
    "        self.temp_stats = []\n",
    "        return True\n",
    "    \n",
    "    def get_temp_stats(self):\n",
    "        tmp_stats = self.temp_stats\n",
    "        self.reset_temp_stats()\n",
    "        return tmp_stats\n",
    "    \n",
    "    def set_count(self, new_count):\n",
    "        return self.change_count(new_count)\n",
    "    \n",
    "    def change_count(self, new_count):\n",
    "        return set_target_user_count(new_count, self.hatch_rate, self.base)\n",
    "    \n",
    "    def stop_test(self):\n",
    "        return stop_test(self.base)\n",
    "    \n",
    "    def start_capturing(self):\n",
    "        curr_state = self.get_state()\n",
    "        if curr_state != 'running':\n",
    "            raise Exception('You should start the test first by calling tester.set_count(). state:' + curr_state)\n",
    "        \n",
    "        self.worker_thread = WorkerThread(self)\n",
    "        self.worker_thread.start()\n",
    "        \n",
    "    def stop_capturing(self):\n",
    "        if self.worker_thread is not None:\n",
    "            self.worker_thread.stop_signal = True\n",
    "            return True\n",
    "        else:\n",
    "            return True\n",
    "        \n",
    "def get_stats_arr(stats, key):\n",
    "    return [stats[i][key] for i in range(len(stats))]"
   ]
  },
  {
   "cell_type": "markdown",
   "metadata": {},
   "source": [
    "# Testing Functions"
   ]
  },
  {
   "cell_type": "code",
   "execution_count": 5,
   "metadata": {
    "ExecuteTime": {
     "end_time": "2019-04-30T21:13:59.176408Z",
     "start_time": "2019-04-30T21:13:59.143100Z"
    }
   },
   "outputs": [
    {
     "data": {
      "text/plain": [
       "{'current_response_time_percentile_50': 27.753114700317383,\n",
       " 'current_response_time_percentile_95': 110,\n",
       " 'errors': [],\n",
       " 'fail_ratio': 0.0,\n",
       " 'state': 'running',\n",
       " 'stats': [{'avg_content_length': 4.0,\n",
       "   'avg_response_time': 42.931657776868256,\n",
       "   'current_rps': 6.8,\n",
       "   'max_response_time': 138.3364200592041,\n",
       "   'median_response_time': 26.89194679260254,\n",
       "   'method': 'GET',\n",
       "   'min_response_time': 22.538423538208008,\n",
       "   'name': '/function/pyfibo/',\n",
       "   'num_failures': 0,\n",
       "   'num_requests': 802},\n",
       "  {'avg_content_length': 4.0,\n",
       "   'avg_response_time': 42.931657776868256,\n",
       "   'current_rps': 6.8,\n",
       "   'max_response_time': 138.3364200592041,\n",
       "   'median_response_time': 26.89194679260254,\n",
       "   'method': None,\n",
       "   'min_response_time': 22.538423538208008,\n",
       "   'name': 'Total',\n",
       "   'num_failures': 0,\n",
       "   'num_requests': 802}],\n",
       " 'total_rps': 6.8,\n",
       " 'user_count': 50}"
      ]
     },
     "execution_count": 5,
     "metadata": {},
     "output_type": "execute_result"
    }
   ],
   "source": [
    "get_current_stats()"
   ]
  },
  {
   "cell_type": "code",
   "execution_count": 7,
   "metadata": {
    "ExecuteTime": {
     "end_time": "2019-04-30T20:12:41.076026Z",
     "start_time": "2019-04-30T20:12:41.038265Z"
    }
   },
   "outputs": [
    {
     "data": {
      "text/plain": [
       "True"
      ]
     },
     "execution_count": 7,
     "metadata": {},
     "output_type": "execute_result"
    }
   ],
   "source": [
    "set_target_user_count(50)"
   ]
  },
  {
   "cell_type": "code",
   "execution_count": 16,
   "metadata": {
    "ExecuteTime": {
     "end_time": "2019-04-30T20:12:54.423254Z",
     "start_time": "2019-04-30T20:12:54.389313Z"
    }
   },
   "outputs": [
    {
     "data": {
      "text/plain": [
       "True"
      ]
     },
     "execution_count": 16,
     "metadata": {},
     "output_type": "execute_result"
    }
   ],
   "source": [
    "reset_stats()"
   ]
  },
  {
   "cell_type": "code",
   "execution_count": 29,
   "metadata": {
    "ExecuteTime": {
     "end_time": "2019-04-30T20:48:20.813404Z",
     "start_time": "2019-04-30T20:48:20.736757Z"
    }
   },
   "outputs": [
    {
     "data": {
      "text/plain": [
       "True"
      ]
     },
     "execution_count": 29,
     "metadata": {},
     "output_type": "execute_result"
    }
   ],
   "source": [
    "stop_test()"
   ]
  },
  {
   "cell_type": "code",
   "execution_count": 17,
   "metadata": {
    "ExecuteTime": {
     "end_time": "2019-04-30T20:12:57.753240Z",
     "start_time": "2019-04-30T20:12:57.723694Z"
    }
   },
   "outputs": [
    {
     "data": {
      "text/plain": [
       "{'current_response_time_percentile_50': 25.371313095092773,\n",
       " 'current_response_time_percentile_95': 89.7066593170166,\n",
       " 'errors': [],\n",
       " 'fail_ratio': 0.0,\n",
       " 'state': 'running',\n",
       " 'stats': [{'avg_content_length': 4.0,\n",
       "   'avg_response_time': 36.92316157477243,\n",
       "   'current_rps': 2.0,\n",
       "   'max_response_time': 105.74507713317871,\n",
       "   'median_response_time': 25.371313095092773,\n",
       "   'method': 'GET',\n",
       "   'min_response_time': 23.4682559967041,\n",
       "   'name': '/function/pyfibo/',\n",
       "   'num_failures': 0,\n",
       "   'num_requests': 28},\n",
       "  {'avg_content_length': 4.0,\n",
       "   'avg_response_time': 36.92316157477243,\n",
       "   'current_rps': 2.0,\n",
       "   'max_response_time': 105.74507713317871,\n",
       "   'median_response_time': 25.371313095092773,\n",
       "   'method': None,\n",
       "   'min_response_time': 23.4682559967041,\n",
       "   'name': 'Total',\n",
       "   'num_failures': 0,\n",
       "   'num_requests': 28}],\n",
       " 'total_rps': 2.0,\n",
       " 'user_count': 50}"
      ]
     },
     "execution_count": 17,
     "metadata": {},
     "output_type": "execute_result"
    }
   ],
   "source": [
    "get_current_stats()"
   ]
  },
  {
   "cell_type": "markdown",
   "metadata": {},
   "source": [
    "# Testing Object"
   ]
  },
  {
   "cell_type": "code",
   "execution_count": 42,
   "metadata": {
    "ExecuteTime": {
     "end_time": "2019-04-30T21:24:26.514946Z",
     "start_time": "2019-04-30T21:24:26.466120Z"
    }
   },
   "outputs": [
    {
     "data": {
      "text/plain": [
       "True"
      ]
     },
     "execution_count": 42,
     "metadata": {},
     "output_type": "execute_result"
    }
   ],
   "source": [
    "load_tester = DdslLoadTester(hatch_rate=100)\n",
    "load_tester.change_count(50)"
   ]
  },
  {
   "cell_type": "code",
   "execution_count": 43,
   "metadata": {
    "ExecuteTime": {
     "end_time": "2019-04-30T21:24:27.502743Z",
     "start_time": "2019-04-30T21:24:27.460041Z"
    }
   },
   "outputs": [],
   "source": [
    "load_tester.start_capturing()"
   ]
  },
  {
   "cell_type": "code",
   "execution_count": 46,
   "metadata": {
    "ExecuteTime": {
     "end_time": "2019-04-30T21:24:50.881536Z",
     "start_time": "2019-04-30T21:24:50.855051Z"
    }
   },
   "outputs": [],
   "source": [
    "temp_stats = load_tester.get_temp_stats()"
   ]
  },
  {
   "cell_type": "code",
   "execution_count": 47,
   "metadata": {
    "ExecuteTime": {
     "end_time": "2019-04-30T21:24:52.789832Z",
     "start_time": "2019-04-30T21:24:52.750619Z"
    }
   },
   "outputs": [
    {
     "data": {
      "text/plain": [
       "[29.175281524658203,\n",
       " 29.175281524658203,\n",
       " 40.78841209411621,\n",
       " 40.78841209411621,\n",
       " 33.73289108276367]"
      ]
     },
     "execution_count": 47,
     "metadata": {},
     "output_type": "execute_result"
    }
   ],
   "source": [
    "get_stats_arr(temp_stats, 'current_response_time_percentile_50')"
   ]
  },
  {
   "cell_type": "code",
   "execution_count": 38,
   "metadata": {
    "ExecuteTime": {
     "end_time": "2019-04-30T21:21:33.050272Z",
     "start_time": "2019-04-30T21:21:33.017723Z"
    }
   },
   "outputs": [
    {
     "data": {
      "text/plain": [
       "True"
      ]
     },
     "execution_count": 38,
     "metadata": {},
     "output_type": "execute_result"
    }
   ],
   "source": [
    "load_tester.stop_capturing()"
   ]
  },
  {
   "cell_type": "code",
   "execution_count": 27,
   "metadata": {
    "ExecuteTime": {
     "end_time": "2019-04-30T21:19:04.038962Z",
     "start_time": "2019-04-30T21:19:03.997692Z"
    }
   },
   "outputs": [
    {
     "data": {
      "text/plain": [
       "True"
      ]
     },
     "execution_count": 27,
     "metadata": {},
     "output_type": "execute_result"
    }
   ],
   "source": [
    "load_tester.stop_test()"
   ]
  }
 ],
 "metadata": {
  "kernelspec": {
   "display_name": "Python 3",
   "language": "python",
   "name": "python3"
  },
  "language_info": {
   "codemirror_mode": {
    "name": "ipython",
    "version": 3
   },
   "file_extension": ".py",
   "mimetype": "text/x-python",
   "name": "python",
   "nbconvert_exporter": "python",
   "pygments_lexer": "ipython3",
   "version": "3.6.8"
  },
  "toc": {
   "base_numbering": 1,
   "nav_menu": {},
   "number_sections": true,
   "sideBar": true,
   "skip_h1_title": false,
   "title_cell": "Table of Contents",
   "title_sidebar": "Contents",
   "toc_cell": false,
   "toc_position": {},
   "toc_section_display": true,
   "toc_window_display": false
  },
  "varInspector": {
   "cols": {
    "lenName": 16,
    "lenType": 16,
    "lenVar": 40
   },
   "kernels_config": {
    "python": {
     "delete_cmd_postfix": "",
     "delete_cmd_prefix": "del ",
     "library": "var_list.py",
     "varRefreshCmd": "print(var_dic_list())"
    },
    "r": {
     "delete_cmd_postfix": ") ",
     "delete_cmd_prefix": "rm(",
     "library": "var_list.r",
     "varRefreshCmd": "cat(var_dic_list()) "
    }
   },
   "types_to_exclude": [
    "module",
    "function",
    "builtin_function_or_method",
    "instance",
    "_Feature"
   ],
   "window_display": false
  }
 },
 "nbformat": 4,
 "nbformat_minor": 2
}
