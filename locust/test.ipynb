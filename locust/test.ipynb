{
 "cells": [
  {
   "cell_type": "code",
   "execution_count": 2,
   "metadata": {
    "ExecuteTime": {
     "end_time": "2019-05-02T00:10:46.889564Z",
     "start_time": "2019-05-02T00:10:46.732411Z"
    }
   },
   "outputs": [],
   "source": [
    "%load_ext autoreload\n",
    "\n",
    "# Auto reloading causes the kernel to reload the libraries we have\n",
    "%autoreload 2\n",
    "\n",
    "import requests\n",
    "\n",
    "import ddsl_load_tester as load_tester"
   ]
  },
  {
   "cell_type": "markdown",
   "metadata": {},
   "source": [
    "# Testing Functionality"
   ]
  },
  {
   "cell_type": "code",
   "execution_count": 22,
   "metadata": {
    "ExecuteTime": {
     "end_time": "2019-05-01T22:37:36.565505Z",
     "start_time": "2019-05-01T22:37:36.525330Z"
    }
   },
   "outputs": [
    {
     "data": {
      "text/plain": [
       "{'current_response_time_percentile_50': None,\n",
       " 'current_response_time_percentile_95': None,\n",
       " 'errors': [],\n",
       " 'fail_ratio': 0.0,\n",
       " 'state': 'ready',\n",
       " 'stats': [{'avg_content_length': 0,\n",
       "   'avg_response_time': 0,\n",
       "   'current_rps': 0.0,\n",
       "   'max_response_time': 0,\n",
       "   'median_response_time': 0,\n",
       "   'method': None,\n",
       "   'min_response_time': 0,\n",
       "   'name': 'Total',\n",
       "   'num_failures': 0,\n",
       "   'num_requests': 0}],\n",
       " 'total_rps': 0.0,\n",
       " 'user_count': 0}"
      ]
     },
     "execution_count": 22,
     "metadata": {},
     "output_type": "execute_result"
    }
   ],
   "source": [
    "load_tester.get_current_stats()"
   ]
  },
  {
   "cell_type": "code",
   "execution_count": 5,
   "metadata": {
    "ExecuteTime": {
     "end_time": "2019-05-01T20:41:09.529155Z",
     "start_time": "2019-05-01T20:41:09.488141Z"
    }
   },
   "outputs": [
    {
     "data": {
      "text/plain": [
       "True"
      ]
     },
     "execution_count": 5,
     "metadata": {},
     "output_type": "execute_result"
    }
   ],
   "source": [
    "load_tester.set_target_user_count(50)"
   ]
  },
  {
   "cell_type": "code",
   "execution_count": 6,
   "metadata": {
    "ExecuteTime": {
     "end_time": "2019-05-01T20:41:09.826266Z",
     "start_time": "2019-05-01T20:41:09.797201Z"
    }
   },
   "outputs": [
    {
     "data": {
      "text/plain": [
       "True"
      ]
     },
     "execution_count": 6,
     "metadata": {},
     "output_type": "execute_result"
    }
   ],
   "source": [
    "load_tester.reset_stats()"
   ]
  },
  {
   "cell_type": "code",
   "execution_count": 7,
   "metadata": {
    "ExecuteTime": {
     "end_time": "2019-05-01T20:41:10.265462Z",
     "start_time": "2019-05-01T20:41:10.219323Z"
    }
   },
   "outputs": [
    {
     "data": {
      "text/plain": [
       "True"
      ]
     },
     "execution_count": 7,
     "metadata": {},
     "output_type": "execute_result"
    }
   ],
   "source": [
    "load_tester.stop_test()"
   ]
  },
  {
   "cell_type": "code",
   "execution_count": 43,
   "metadata": {
    "ExecuteTime": {
     "end_time": "2019-05-01T23:08:50.728251Z",
     "start_time": "2019-05-01T23:08:50.649505Z"
    }
   },
   "outputs": [
    {
     "data": {
      "text/plain": [
       "{'current_response_time_percentile_50': None,\n",
       " 'current_response_time_percentile_95': None,\n",
       " 'errors': [{'error': \"HTTPError('502 Server Error: Bad Gateway for url: http://wg2.nmahmoudi.ir:31112/function/pyfibo/',)\",\n",
       "   'method': 'GET',\n",
       "   'name': '/function/pyfibo/',\n",
       "   'occurences': 11676}],\n",
       " 'fail_ratio': 0.0,\n",
       " 'state': 'stopped',\n",
       " 'stats': [{'avg_content_length': 0,\n",
       "   'avg_response_time': 0,\n",
       "   'current_rps': 0.0,\n",
       "   'max_response_time': 0,\n",
       "   'median_response_time': 0,\n",
       "   'method': 'GET',\n",
       "   'min_response_time': 0,\n",
       "   'name': '/function/pyfibo/',\n",
       "   'num_failures': 0,\n",
       "   'num_requests': 0},\n",
       "  {'avg_content_length': 0,\n",
       "   'avg_response_time': 0,\n",
       "   'current_rps': 0.0,\n",
       "   'max_response_time': 0,\n",
       "   'median_response_time': 0,\n",
       "   'method': None,\n",
       "   'min_response_time': 0,\n",
       "   'name': 'Total',\n",
       "   'num_failures': 0,\n",
       "   'num_requests': 0}],\n",
       " 'total_rps': 0.0,\n",
       " 'user_count': 0}"
      ]
     },
     "execution_count": 43,
     "metadata": {},
     "output_type": "execute_result"
    }
   ],
   "source": [
    "load_tester.get_current_stats()"
   ]
  },
  {
   "cell_type": "markdown",
   "metadata": {},
   "source": [
    "# Testing Object"
   ]
  },
  {
   "cell_type": "code",
   "execution_count": 74,
   "metadata": {
    "ExecuteTime": {
     "end_time": "2019-05-01T23:29:06.529797Z",
     "start_time": "2019-05-01T23:29:06.456806Z"
    }
   },
   "outputs": [
    {
     "data": {
      "text/plain": [
       "True"
      ]
     },
     "execution_count": 74,
     "metadata": {},
     "output_type": "execute_result"
    }
   ],
   "source": [
    "lt = load_tester.DdslLoadTester(hatch_rate=100, temp_stat_max_len=5, base='http://localhost:8089/')\n",
    "lt.change_count(50)"
   ]
  },
  {
   "cell_type": "code",
   "execution_count": 75,
   "metadata": {
    "ExecuteTime": {
     "end_time": "2019-05-01T23:29:07.315445Z",
     "start_time": "2019-05-01T23:29:07.278041Z"
    }
   },
   "outputs": [],
   "source": [
    "lt.start_capturing()"
   ]
  },
  {
   "cell_type": "code",
   "execution_count": 77,
   "metadata": {
    "ExecuteTime": {
     "end_time": "2019-05-01T23:29:20.181561Z",
     "start_time": "2019-05-01T23:29:20.148411Z"
    }
   },
   "outputs": [
    {
     "data": {
      "text/plain": [
       "{'time': [1556753351.3287334,\n",
       "  1556753353.332906,\n",
       "  1556753355.3335166,\n",
       "  1556753357.3305836,\n",
       "  1556753359.3368878],\n",
       " 'current_response_time_percentile_50': [None, None, None, None, None],\n",
       " 'current_response_time_percentile_95': [None, None, None, None, None],\n",
       " 'fail_ratio': [0.0, 0.0, 0.0, 0.0, 0.0],\n",
       " 'total_rps': [0.0, 0.0, 0.0, 0.0, 0.0],\n",
       " 'user_count': [50, 50, 50, 50, 50],\n",
       " 'avg_response_time': [0,\n",
       "  53.74026298522949,\n",
       "  40.00663757324219,\n",
       "  40.00663757324219,\n",
       "  0],\n",
       " 'current_rps': [0.0, 0.0, 0.0, 0.0, 0.0],\n",
       " 'max_response_time': [0,\n",
       "  57.170867919921875,\n",
       "  78.32837104797363,\n",
       "  78.32837104797363,\n",
       "  0],\n",
       " 'median_response_time': [0,\n",
       "  50.30965805053711,\n",
       "  25.400876998901367,\n",
       "  25.400876998901367,\n",
       "  0],\n",
       " 'min_response_time': [0,\n",
       "  50.30965805053711,\n",
       "  23.400068283081055,\n",
       "  23.400068283081055,\n",
       "  0],\n",
       " 'num_failures': [0, 0, 0, 0, 0],\n",
       " 'num_requests': [0, 2, 10, 10, 0]}"
      ]
     },
     "execution_count": 77,
     "metadata": {},
     "output_type": "execute_result"
    }
   ],
   "source": [
    "lt.get_all_stats()"
   ]
  },
  {
   "cell_type": "code",
   "execution_count": 15,
   "metadata": {
    "ExecuteTime": {
     "end_time": "2019-05-01T20:42:39.528647Z",
     "start_time": "2019-05-01T20:42:39.491080Z"
    },
    "scrolled": true
   },
   "outputs": [
    {
     "data": {
      "text/plain": [
       "[{'current_response_time_percentile_50': 57.43908882141113,\n",
       "  'current_response_time_percentile_95': 98.80471229553223,\n",
       "  'errors': [],\n",
       "  'fail_ratio': 0.0,\n",
       "  'state': 'running',\n",
       "  'stats': [{'avg_content_length': 4.0,\n",
       "    'avg_response_time': 45.568084716796875,\n",
       "    'current_rps': 0.0,\n",
       "    'max_response_time': 98.80471229553223,\n",
       "    'median_response_time': 28.05781364440918,\n",
       "    'method': 'GET',\n",
       "    'min_response_time': 24.00517463684082,\n",
       "    'name': '/function/pyfibo/',\n",
       "    'num_failures': 0,\n",
       "    'num_requests': 15},\n",
       "   {'avg_content_length': 4.0,\n",
       "    'avg_response_time': 45.568084716796875,\n",
       "    'current_rps': 0.0,\n",
       "    'max_response_time': 98.80471229553223,\n",
       "    'median_response_time': 28.05781364440918,\n",
       "    'method': None,\n",
       "    'min_response_time': 24.00517463684082,\n",
       "    'name': 'Total',\n",
       "    'num_failures': 0,\n",
       "    'num_requests': 15}],\n",
       "  'total_rps': 0.0,\n",
       "  'user_count': 50,\n",
       "  'time': 1556743350.3435028},\n",
       " {'current_response_time_percentile_50': 36.06247901916504,\n",
       "  'current_response_time_percentile_95': 130,\n",
       "  'errors': [],\n",
       "  'fail_ratio': 0.0,\n",
       "  'state': 'running',\n",
       "  'stats': [{'avg_content_length': 4.0,\n",
       "    'avg_response_time': 55.91193267277309,\n",
       "    'current_rps': 0.0,\n",
       "    'max_response_time': 126.40786170959473,\n",
       "    'median_response_time': 32.33814239501953,\n",
       "    'method': 'GET',\n",
       "    'min_response_time': 24.779558181762695,\n",
       "    'name': '/function/pyfibo/',\n",
       "    'num_failures': 0,\n",
       "    'num_requests': 14},\n",
       "   {'avg_content_length': 4.0,\n",
       "    'avg_response_time': 55.91193267277309,\n",
       "    'current_rps': 0.0,\n",
       "    'max_response_time': 126.40786170959473,\n",
       "    'median_response_time': 32.33814239501953,\n",
       "    'method': None,\n",
       "    'min_response_time': 24.779558181762695,\n",
       "    'name': 'Total',\n",
       "    'num_failures': 0,\n",
       "    'num_requests': 14}],\n",
       "  'total_rps': 0.0,\n",
       "  'user_count': 50,\n",
       "  'time': 1556743352.3476195},\n",
       " {'current_response_time_percentile_50': 26.9467830657959,\n",
       "  'current_response_time_percentile_95': 94.6049690246582,\n",
       "  'errors': [],\n",
       "  'fail_ratio': 0.0,\n",
       "  'state': 'running',\n",
       "  'stats': [{'avg_content_length': 4.0,\n",
       "    'avg_response_time': 49.9715656042099,\n",
       "    'current_rps': 0.0,\n",
       "    'max_response_time': 115.04125595092773,\n",
       "    'median_response_time': 26.569843292236328,\n",
       "    'method': 'GET',\n",
       "    'min_response_time': 24.452686309814453,\n",
       "    'name': '/function/pyfibo/',\n",
       "    'num_failures': 0,\n",
       "    'num_requests': 16},\n",
       "   {'avg_content_length': 4.0,\n",
       "    'avg_response_time': 49.9715656042099,\n",
       "    'current_rps': 0.0,\n",
       "    'max_response_time': 115.04125595092773,\n",
       "    'median_response_time': 26.569843292236328,\n",
       "    'method': None,\n",
       "    'min_response_time': 24.452686309814453,\n",
       "    'name': 'Total',\n",
       "    'num_failures': 0,\n",
       "    'num_requests': 16}],\n",
       "  'total_rps': 0.0,\n",
       "  'user_count': 50,\n",
       "  'time': 1556743354.3609185},\n",
       " {'current_response_time_percentile_50': 26.9467830657959,\n",
       "  'current_response_time_percentile_95': 94.6049690246582,\n",
       "  'errors': [],\n",
       "  'fail_ratio': 0.0,\n",
       "  'state': 'running',\n",
       "  'stats': [{'avg_content_length': 4.0,\n",
       "    'avg_response_time': 49.9715656042099,\n",
       "    'current_rps': 0.0,\n",
       "    'max_response_time': 115.04125595092773,\n",
       "    'median_response_time': 26.569843292236328,\n",
       "    'method': 'GET',\n",
       "    'min_response_time': 24.452686309814453,\n",
       "    'name': '/function/pyfibo/',\n",
       "    'num_failures': 0,\n",
       "    'num_requests': 16},\n",
       "   {'avg_content_length': 4.0,\n",
       "    'avg_response_time': 49.9715656042099,\n",
       "    'current_rps': 0.0,\n",
       "    'max_response_time': 115.04125595092773,\n",
       "    'median_response_time': 26.569843292236328,\n",
       "    'method': None,\n",
       "    'min_response_time': 24.452686309814453,\n",
       "    'name': 'Total',\n",
       "    'num_failures': 0,\n",
       "    'num_requests': 16}],\n",
       "  'total_rps': 0.0,\n",
       "  'user_count': 50,\n",
       "  'time': 1556743356.3455503},\n",
       " {'current_response_time_percentile_50': 24.608612060546875,\n",
       "  'current_response_time_percentile_95': 29.848098754882812,\n",
       "  'errors': [],\n",
       "  'fail_ratio': 0.0,\n",
       "  'state': 'running',\n",
       "  'stats': [{'avg_content_length': 4.0,\n",
       "    'avg_response_time': 34.6970796585083,\n",
       "    'current_rps': 0.0,\n",
       "    'max_response_time': 89.65516090393066,\n",
       "    'median_response_time': 24.608612060546875,\n",
       "    'method': 'GET',\n",
       "    'min_response_time': 24.16682243347168,\n",
       "    'name': '/function/pyfibo/',\n",
       "    'num_failures': 0,\n",
       "    'num_requests': 10},\n",
       "   {'avg_content_length': 4.0,\n",
       "    'avg_response_time': 34.6970796585083,\n",
       "    'current_rps': 0.0,\n",
       "    'max_response_time': 89.65516090393066,\n",
       "    'median_response_time': 24.608612060546875,\n",
       "    'method': None,\n",
       "    'min_response_time': 24.16682243347168,\n",
       "    'name': 'Total',\n",
       "    'num_failures': 0,\n",
       "    'num_requests': 10}],\n",
       "  'total_rps': 0.0,\n",
       "  'user_count': 50,\n",
       "  'time': 1556743358.3501804}]"
      ]
     },
     "execution_count": 15,
     "metadata": {},
     "output_type": "execute_result"
    }
   ],
   "source": [
    "temp_stats = lt.get_temp_stats()\n",
    "temp_stats"
   ]
  },
  {
   "cell_type": "code",
   "execution_count": 16,
   "metadata": {
    "ExecuteTime": {
     "end_time": "2019-05-01T20:42:39.839921Z",
     "start_time": "2019-05-01T20:42:39.812891Z"
    }
   },
   "outputs": [
    {
     "data": {
      "text/plain": [
       "[57.43908882141113,\n",
       " 36.06247901916504,\n",
       " 26.9467830657959,\n",
       " 26.9467830657959,\n",
       " 24.608612060546875]"
      ]
     },
     "execution_count": 16,
     "metadata": {},
     "output_type": "execute_result"
    }
   ],
   "source": [
    "load_tester.get_stats_arr(temp_stats, 'current_response_time_percentile_50')"
   ]
  },
  {
   "cell_type": "code",
   "execution_count": 17,
   "metadata": {
    "ExecuteTime": {
     "end_time": "2019-05-01T20:42:40.940444Z",
     "start_time": "2019-05-01T20:42:40.912608Z"
    }
   },
   "outputs": [
    {
     "data": {
      "text/plain": [
       "[45.568084716796875,\n",
       " 55.91193267277309,\n",
       " 49.9715656042099,\n",
       " 49.9715656042099,\n",
       " 34.6970796585083]"
      ]
     },
     "execution_count": 17,
     "metadata": {},
     "output_type": "execute_result"
    }
   ],
   "source": [
    "load_tester.get_stats_arr_stats(temp_stats, 'avg_response_time')"
   ]
  },
  {
   "cell_type": "code",
   "execution_count": 73,
   "metadata": {
    "ExecuteTime": {
     "end_time": "2019-05-01T23:29:03.529213Z",
     "start_time": "2019-05-01T23:29:03.463568Z"
    }
   },
   "outputs": [
    {
     "data": {
      "text/plain": [
       "True"
      ]
     },
     "execution_count": 73,
     "metadata": {},
     "output_type": "execute_result"
    }
   ],
   "source": [
    "lt.stop_test()"
   ]
  },
  {
   "cell_type": "markdown",
   "metadata": {},
   "source": [
    "# Testing Sequence"
   ]
  },
  {
   "cell_type": "code",
   "execution_count": 19,
   "metadata": {
    "ExecuteTime": {
     "end_time": "2019-05-02T00:27:32.326166Z",
     "start_time": "2019-05-02T00:26:02.066480Z"
    }
   },
   "outputs": [
    {
     "data": {
      "application/vnd.jupyter.widget-view+json": {
       "model_id": "c661f6037581429090cd68613853a0a9",
       "version_major": 2,
       "version_minor": 0
      },
      "text/plain": [
       "HBox(children=(IntProgress(value=0, max=9), HTML(value='')))"
      ]
     },
     "metadata": {},
     "output_type": "display_data"
    },
    {
     "name": "stdout",
     "output_type": "stream",
     "text": [
      "\n"
     ]
    },
    {
     "data": {
      "text/html": [
       "<div>\n",
       "<style scoped>\n",
       "    .dataframe tbody tr th:only-of-type {\n",
       "        vertical-align: middle;\n",
       "    }\n",
       "\n",
       "    .dataframe tbody tr th {\n",
       "        vertical-align: top;\n",
       "    }\n",
       "\n",
       "    .dataframe thead th {\n",
       "        text-align: right;\n",
       "    }\n",
       "</style>\n",
       "<table border=\"1\" class=\"dataframe\">\n",
       "  <thead>\n",
       "    <tr style=\"text-align: right;\">\n",
       "      <th></th>\n",
       "      <th>time</th>\n",
       "      <th>current_response_time_percentile_50</th>\n",
       "      <th>current_response_time_percentile_95</th>\n",
       "      <th>fail_ratio</th>\n",
       "      <th>total_rps</th>\n",
       "      <th>user_count</th>\n",
       "      <th>avg_response_time</th>\n",
       "      <th>current_rps</th>\n",
       "      <th>max_response_time</th>\n",
       "      <th>median_response_time</th>\n",
       "      <th>min_response_time</th>\n",
       "      <th>num_failures</th>\n",
       "      <th>num_requests</th>\n",
       "      <th>elapsed</th>\n",
       "      <th>elapsed_min</th>\n",
       "    </tr>\n",
       "  </thead>\n",
       "  <tbody>\n",
       "    <tr>\n",
       "      <th>0</th>\n",
       "      <td>1.556757e+09</td>\n",
       "      <td>400.0</td>\n",
       "      <td>580.0</td>\n",
       "      <td>0.0</td>\n",
       "      <td>0.0</td>\n",
       "      <td>50</td>\n",
       "      <td>397.437634</td>\n",
       "      <td>0.0</td>\n",
       "      <td>622.669697</td>\n",
       "      <td>390.0</td>\n",
       "      <td>155.520201</td>\n",
       "      <td>0</td>\n",
       "      <td>50</td>\n",
       "      <td>0.000000</td>\n",
       "      <td>0.000000</td>\n",
       "    </tr>\n",
       "    <tr>\n",
       "      <th>1</th>\n",
       "      <td>1.556757e+09</td>\n",
       "      <td>400.0</td>\n",
       "      <td>580.0</td>\n",
       "      <td>0.0</td>\n",
       "      <td>0.0</td>\n",
       "      <td>50</td>\n",
       "      <td>397.437634</td>\n",
       "      <td>0.0</td>\n",
       "      <td>622.669697</td>\n",
       "      <td>390.0</td>\n",
       "      <td>155.520201</td>\n",
       "      <td>0</td>\n",
       "      <td>50</td>\n",
       "      <td>1.998580</td>\n",
       "      <td>0.033310</td>\n",
       "    </tr>\n",
       "    <tr>\n",
       "      <th>2</th>\n",
       "      <td>1.556757e+09</td>\n",
       "      <td>380.0</td>\n",
       "      <td>580.0</td>\n",
       "      <td>0.0</td>\n",
       "      <td>12.5</td>\n",
       "      <td>50</td>\n",
       "      <td>358.278773</td>\n",
       "      <td>12.5</td>\n",
       "      <td>622.669697</td>\n",
       "      <td>370.0</td>\n",
       "      <td>24.170399</td>\n",
       "      <td>0</td>\n",
       "      <td>56</td>\n",
       "      <td>4.005197</td>\n",
       "      <td>0.066753</td>\n",
       "    </tr>\n",
       "    <tr>\n",
       "      <th>3</th>\n",
       "      <td>1.556757e+09</td>\n",
       "      <td>380.0</td>\n",
       "      <td>580.0</td>\n",
       "      <td>0.0</td>\n",
       "      <td>12.5</td>\n",
       "      <td>50</td>\n",
       "      <td>358.278773</td>\n",
       "      <td>12.5</td>\n",
       "      <td>622.669697</td>\n",
       "      <td>370.0</td>\n",
       "      <td>24.170399</td>\n",
       "      <td>0</td>\n",
       "      <td>56</td>\n",
       "      <td>6.004160</td>\n",
       "      <td>0.100069</td>\n",
       "    </tr>\n",
       "    <tr>\n",
       "      <th>0</th>\n",
       "      <td>1.556757e+09</td>\n",
       "      <td>NaN</td>\n",
       "      <td>NaN</td>\n",
       "      <td>0.0</td>\n",
       "      <td>0.0</td>\n",
       "      <td>50</td>\n",
       "      <td>0.000000</td>\n",
       "      <td>0.0</td>\n",
       "      <td>0.000000</td>\n",
       "      <td>0.0</td>\n",
       "      <td>0.000000</td>\n",
       "      <td>0</td>\n",
       "      <td>0</td>\n",
       "      <td>8.020919</td>\n",
       "      <td>0.133682</td>\n",
       "    </tr>\n",
       "  </tbody>\n",
       "</table>\n",
       "</div>"
      ],
      "text/plain": [
       "           time  current_response_time_percentile_50  \\\n",
       "0  1.556757e+09                                400.0   \n",
       "1  1.556757e+09                                400.0   \n",
       "2  1.556757e+09                                380.0   \n",
       "3  1.556757e+09                                380.0   \n",
       "0  1.556757e+09                                  NaN   \n",
       "\n",
       "   current_response_time_percentile_95  fail_ratio  total_rps  user_count  \\\n",
       "0                                580.0         0.0        0.0          50   \n",
       "1                                580.0         0.0        0.0          50   \n",
       "2                                580.0         0.0       12.5          50   \n",
       "3                                580.0         0.0       12.5          50   \n",
       "0                                  NaN         0.0        0.0          50   \n",
       "\n",
       "   avg_response_time  current_rps  max_response_time  median_response_time  \\\n",
       "0         397.437634          0.0         622.669697                 390.0   \n",
       "1         397.437634          0.0         622.669697                 390.0   \n",
       "2         358.278773         12.5         622.669697                 370.0   \n",
       "3         358.278773         12.5         622.669697                 370.0   \n",
       "0           0.000000          0.0           0.000000                   0.0   \n",
       "\n",
       "   min_response_time  num_failures  num_requests   elapsed  elapsed_min  \n",
       "0         155.520201             0            50  0.000000     0.000000  \n",
       "1         155.520201             0            50  1.998580     0.033310  \n",
       "2          24.170399             0            56  4.005197     0.066753  \n",
       "3          24.170399             0            56  6.004160     0.100069  \n",
       "0           0.000000             0             0  8.020919     0.133682  "
      ]
     },
     "execution_count": 19,
     "metadata": {},
     "output_type": "execute_result"
    }
   ],
   "source": [
    "import time\n",
    "import pandas as pd\n",
    "\n",
    "from tqdm.auto import tqdm\n",
    "tqdm.pandas()\n",
    "\n",
    "loop_timer = load_tester.TimerClass()\n",
    "total_timer = load_tester.TimerClass()\n",
    "\n",
    "user_sequence = [50,100,500,1000,1000,1000,500,100,50]\n",
    "lt = load_tester.DdslLoadTester(hatch_rate=1000, temp_stat_max_len=5, base='http://localhost:8089/')\n",
    "lt.change_count(user_sequence[0])\n",
    "lt.start_capturing()\n",
    "\n",
    "loop_timer.tic()\n",
    "total_timer.tic()\n",
    "\n",
    "results = None\n",
    "for i in tqdm(range(len(user_sequence))):\n",
    "    user_count = user_sequence[i]\n",
    "    lt.change_count(user_count)\n",
    "    \n",
    "    time.sleep(10 - loop_timer.toc())\n",
    "    \n",
    "    loop_timer.tic()\n",
    "    \n",
    "    result = lt.get_all_stats()\n",
    "    df_result = pd.DataFrame(data=result)\n",
    "    \n",
    "    if results is None:\n",
    "        results = df_result\n",
    "    else:\n",
    "        results = results.append(df_result)\n",
    "    \n",
    "lt.stop_test()\n",
    "\n",
    "# make the elapsed columns\n",
    "results['elapsed'] = (results['time'] - results['time'].min())\n",
    "results['elapsed_min'] = results['elapsed']/60\n",
    "\n",
    "# Save File\n",
    "from datetime import datetime\n",
    "date = datetime.now()\n",
    "filename = \"results/\" + date.strftime('%Y-%m-%d_%H-%M-%S.csv')\n",
    "results.to_csv(filename, index=False)\n",
    "\n",
    "results.head()"
   ]
  },
  {
   "cell_type": "code",
   "execution_count": 21,
   "metadata": {
    "ExecuteTime": {
     "end_time": "2019-05-02T00:27:42.884589Z",
     "start_time": "2019-05-02T00:27:41.787028Z"
    },
    "scrolled": false
   },
   "outputs": [
    {
     "data": {
      "image/png": "[encoded data removed]",
      "text/plain": [
       "<Figure size 432x864 with 3 Axes>"
      ]
     },
     "metadata": {
      "needs_background": "light"
     },
     "output_type": "display_data"
    }
   ],
   "source": [
    "res = results\n",
    "\n",
    "import matplotlib.pyplot as plt\n",
    "\n",
    "%matplotlib inline\n",
    "\n",
    "plt.figure(figsize=(6,12))\n",
    "plt.subplot(311)\n",
    "plt.plot(res['elapsed_min'], res['avg_response_time'], label='avg_response_time')\n",
    "plt.plot(res['elapsed_min'], res['max_response_time'], label='max_response_time')\n",
    "plt.plot(res['elapsed_min'], res['min_response_time'], label='min_response_time')\n",
    "plt.plot(res['elapsed_min'], res['current_response_time_percentile_95'], label='95th percentile')\n",
    "plt.xlabel('Time (minutes)')\n",
    "plt.ylabel('Average Response Time (ms)')\n",
    "plt.legend()\n",
    "\n",
    "plt.subplot(312)\n",
    "plt.plot(res['elapsed_min'], res['user_count'])\n",
    "plt.xlabel('Time (minutes)')\n",
    "plt.ylabel('Num of Users')\n",
    "\n",
    "plt.subplot(313)\n",
    "plt.plot(res['elapsed_min'], res['fail_ratio'])\n",
    "plt.xlabel('Time (minutes)')\n",
    "plt.ylabel('Fail Ratio')\n",
    "\n",
    "plt.show()"
   ]
  },
  {
   "cell_type": "code",
   "execution_count": null,
   "metadata": {},
   "outputs": [],
   "source": []
  }
 ],
 "metadata": {
  "kernelspec": {
   "display_name": "Python 3",
   "language": "python",
   "name": "python3"
  },
  "language_info": {
   "codemirror_mode": {
    "name": "ipython",
    "version": 3
   },
   "file_extension": ".py",
   "mimetype": "text/x-python",
   "name": "python",
   "nbconvert_exporter": "python",
   "pygments_lexer": "ipython3",
   "version": "3.6.8"
  },
  "toc": {
   "base_numbering": 1,
   "nav_menu": {},
   "number_sections": true,
   "sideBar": true,
   "skip_h1_title": false,
   "title_cell": "Table of Contents",
   "title_sidebar": "Contents",
   "toc_cell": false,
   "toc_position": {},
   "toc_section_display": true,
   "toc_window_display": false
  },
  "varInspector": {
   "cols": {
    "lenName": 16,
    "lenType": 16,
    "lenVar": 40
   },
   "kernels_config": {
    "python": {
     "delete_cmd_postfix": "",
     "delete_cmd_prefix": "del ",
     "library": "var_list.py",
     "varRefreshCmd": "print(var_dic_list())"
    },
    "r": {
     "delete_cmd_postfix": ") ",
     "delete_cmd_prefix": "rm(",
     "library": "var_list.r",
     "varRefreshCmd": "cat(var_dic_list()) "
    }
   },
   "types_to_exclude": [
    "module",
    "function",
    "builtin_function_or_method",
    "instance",
    "_Feature"
   ],
   "window_display": false
  }
 },
 "nbformat": 4,
 "nbformat_minor": 2
}
